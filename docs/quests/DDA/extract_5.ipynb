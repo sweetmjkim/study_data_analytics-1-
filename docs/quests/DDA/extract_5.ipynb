{
  "nbformat": 4,
  "nbformat_minor": 0,
  "metadata": {
    "colab": {
      "provenance": [],
      "collapsed_sections": [
        "fp6tW2m1F6Jp",
        "hlhPWaXzGBY4",
        "N_6t0Ua_Fwxh",
        "qHIjPnmCF1ph",
        "xhSWBlMTFlMh"
      ],
      "authorship_tag": "ABX9TyN59O/i7C8pxYa2D9sQIoZ8",
      "include_colab_link": true
    },
    "kernelspec": {
      "name": "python3",
      "display_name": "Python 3"
    },
    "language_info": {
      "name": "python"
    }
  },
  "cells": [
    {
      "cell_type": "markdown",
      "metadata": {
        "id": "view-in-github",
        "colab_type": "text"
      },
      "source": [
        "<a href=\"https://colab.research.google.com/github/nohjuhyeon/study_data_analytics/blob/main/docs/quests/DDA/extract_5.ipynb\" target=\"_parent\"><img src=\"https://colab.research.google.com/assets/colab-badge.svg\" alt=\"Open In Colab\"/></a>"
      ]
    },
    {
      "cell_type": "markdown",
      "source": [
        "### Format"
      ],
      "metadata": {
        "id": "fp6tW2m1F6Jp"
      }
    },
    {
      "cell_type": "code",
      "execution_count": 1,
      "metadata": {
        "colab": {
          "base_uri": "https://localhost:8080/"
        },
        "id": "s07woZre_Aqz",
        "outputId": "e8bd5847-3ea2-43c9-f223-e5723588af84"
      },
      "outputs": [
        {
          "output_type": "stream",
          "name": "stdout",
          "text": [
            "Reading package lists... Done\n",
            "Building dependency tree... Done\n",
            "Reading state information... Done\n",
            "fonts-nanum is already the newest version (20200506-1).\n",
            "0 upgraded, 0 newly installed, 0 to remove and 31 not upgraded.\n",
            "/usr/share/fonts: caching, new cache contents: 0 fonts, 1 dirs\n",
            "/usr/share/fonts/truetype: caching, new cache contents: 0 fonts, 3 dirs\n",
            "/usr/share/fonts/truetype/humor-sans: caching, new cache contents: 1 fonts, 0 dirs\n",
            "/usr/share/fonts/truetype/liberation: caching, new cache contents: 16 fonts, 0 dirs\n",
            "/usr/share/fonts/truetype/nanum: caching, new cache contents: 12 fonts, 0 dirs\n",
            "/usr/local/share/fonts: caching, new cache contents: 0 fonts, 0 dirs\n",
            "/root/.local/share/fonts: skipping, no such directory\n",
            "/root/.fonts: skipping, no such directory\n",
            "/usr/share/fonts/truetype: skipping, looped directory detected\n",
            "/usr/share/fonts/truetype/humor-sans: skipping, looped directory detected\n",
            "/usr/share/fonts/truetype/liberation: skipping, looped directory detected\n",
            "/usr/share/fonts/truetype/nanum: skipping, looped directory detected\n",
            "/var/cache/fontconfig: cleaning cache directory\n",
            "/root/.cache/fontconfig: not cleaning non-existent cache directory\n",
            "/root/.fontconfig: not cleaning non-existent cache directory\n",
            "fc-cache: succeeded\n"
          ]
        }
      ],
      "source": [
        "# 한글 폰트 설치\n",
        "!apt-get install -y fonts-nanum\n",
        "!fc-cache -fv\n",
        "!rm ~/.cache/matplotlib -rf\n",
        "# 설치 후 colab 경우 Runtime > Restart session 필요"
      ]
    },
    {
      "cell_type": "code",
      "source": [
        "import matplotlib.pyplot as pit\n",
        "import matplotlib as mpl\n",
        "mpl.rc('font', family='NanumBarunGothic') # 혹은 다른 설치한 Nanum 폰트 사용"
      ],
      "metadata": {
        "id": "N4lnGHpA_QYY"
      },
      "execution_count": 2,
      "outputs": []
    },
    {
      "cell_type": "code",
      "source": [
        "import pandas as pd\n",
        "import seaborn as sns"
      ],
      "metadata": {
        "id": "Z08nWXqO_TVX"
      },
      "execution_count": 3,
      "outputs": []
    },
    {
      "cell_type": "markdown",
      "source": [
        "### df_shopping"
      ],
      "metadata": {
        "id": "hlhPWaXzGBY4"
      }
    },
    {
      "cell_type": "code",
      "source": [
        "df_shopping=pd.read_csv(\"/content/ShoppingMallDeliveryWithDate.csv\")"
      ],
      "metadata": {
        "id": "21ncrsPD_Xon"
      },
      "execution_count": 4,
      "outputs": []
    },
    {
      "cell_type": "code",
      "source": [
        "df_shopping"
      ],
      "metadata": {
        "colab": {
          "base_uri": "https://localhost:8080/",
          "height": 615
        },
        "id": "9u060oxj_ek_",
        "outputId": "1a5e00c7-d770-4a8b-cbbf-6e317bfea306"
      },
      "execution_count": 5,
      "outputs": [
        {
          "output_type": "execute_result",
          "data": {
            "text/plain": [
              "        결제수단                   배송번호                배송시작일               배송완료일  \\\n",
              "0      무통장입금  D-20181227-0000648-00   2019-01-07 오전 8:56  2019-01-11 오전 5:32   \n",
              "1      무통장입금  D-20181229-0000119-00   2019-01-03 오전 9:30  2019-01-07 오전 5:32   \n",
              "2      무통장입금  D-20181230-0000100-00   2019-01-03 오전 9:30  2019-01-07 오전 5:32   \n",
              "3      무통장입금  D-20181231-0000087-00   2019-01-03 오전 9:30  2019-01-07 오전 5:32   \n",
              "4      무통장입금  D-20181231-0000108-00   2019-01-07 오전 8:56  2019-01-11 오전 5:32   \n",
              "...      ...                    ...                  ...                 ...   \n",
              "46744     카드  D-20171229-0000036-00   2017-12-29 오후 4:32  2018-01-02 오전 5:31   \n",
              "46745     카드  D-20171229-0000043-00   2018-01-03 오전 9:45  2018-01-07 오전 5:38   \n",
              "46746     카드  D-20171230-0000022-01   2018-01-02 오후 7:06  2018-01-11 오전 2:46   \n",
              "46747     카드  D-20171231-0000017-01   2018-01-03 오후 2:00  2018-01-06 오후 6:06   \n",
              "46748     카드  D-20171231-0000026-00  2018-01-03 오후 12:43  2018-01-07 오전 5:38   \n",
              "\n",
              "       상품구매금액    상품번호  수량    주문경로       주문일  \n",
              "0       71450  1077.0   1   PC쇼핑몰  20181227  \n",
              "1      141240    42.0   2    모바일웹  20181229  \n",
              "2       13910  1271.0   1    모바일웹  20181230  \n",
              "3       81600  1085.0   1    모바일웹  20181231  \n",
              "4       94710  1106.0   1    모바일웹  20181231  \n",
              "...       ...     ...  ..     ...       ...  \n",
              "46744   52800   445.0   1    모바일웹  20171229  \n",
              "46745  112200   172.0   2    모바일웹  20171229  \n",
              "46746   36000   140.0   1  네이버 페이  20171230  \n",
              "46747   73460   184.0   1  네이버 페이  20171231  \n",
              "46748   81620   479.0   1    모바일웹  20171231  \n",
              "\n",
              "[46749 rows x 9 columns]"
            ],
            "text/html": [
              "\n",
              "  <div id=\"df-250aa7a5-e56d-4f5e-99d5-d1f6115baf65\" class=\"colab-df-container\">\n",
              "    <div>\n",
              "<style scoped>\n",
              "    .dataframe tbody tr th:only-of-type {\n",
              "        vertical-align: middle;\n",
              "    }\n",
              "\n",
              "    .dataframe tbody tr th {\n",
              "        vertical-align: top;\n",
              "    }\n",
              "\n",
              "    .dataframe thead th {\n",
              "        text-align: right;\n",
              "    }\n",
              "</style>\n",
              "<table border=\"1\" class=\"dataframe\">\n",
              "  <thead>\n",
              "    <tr style=\"text-align: right;\">\n",
              "      <th></th>\n",
              "      <th>결제수단</th>\n",
              "      <th>배송번호</th>\n",
              "      <th>배송시작일</th>\n",
              "      <th>배송완료일</th>\n",
              "      <th>상품구매금액</th>\n",
              "      <th>상품번호</th>\n",
              "      <th>수량</th>\n",
              "      <th>주문경로</th>\n",
              "      <th>주문일</th>\n",
              "    </tr>\n",
              "  </thead>\n",
              "  <tbody>\n",
              "    <tr>\n",
              "      <th>0</th>\n",
              "      <td>무통장입금</td>\n",
              "      <td>D-20181227-0000648-00</td>\n",
              "      <td>2019-01-07 오전 8:56</td>\n",
              "      <td>2019-01-11 오전 5:32</td>\n",
              "      <td>71450</td>\n",
              "      <td>1077.0</td>\n",
              "      <td>1</td>\n",
              "      <td>PC쇼핑몰</td>\n",
              "      <td>20181227</td>\n",
              "    </tr>\n",
              "    <tr>\n",
              "      <th>1</th>\n",
              "      <td>무통장입금</td>\n",
              "      <td>D-20181229-0000119-00</td>\n",
              "      <td>2019-01-03 오전 9:30</td>\n",
              "      <td>2019-01-07 오전 5:32</td>\n",
              "      <td>141240</td>\n",
              "      <td>42.0</td>\n",
              "      <td>2</td>\n",
              "      <td>모바일웹</td>\n",
              "      <td>20181229</td>\n",
              "    </tr>\n",
              "    <tr>\n",
              "      <th>2</th>\n",
              "      <td>무통장입금</td>\n",
              "      <td>D-20181230-0000100-00</td>\n",
              "      <td>2019-01-03 오전 9:30</td>\n",
              "      <td>2019-01-07 오전 5:32</td>\n",
              "      <td>13910</td>\n",
              "      <td>1271.0</td>\n",
              "      <td>1</td>\n",
              "      <td>모바일웹</td>\n",
              "      <td>20181230</td>\n",
              "    </tr>\n",
              "    <tr>\n",
              "      <th>3</th>\n",
              "      <td>무통장입금</td>\n",
              "      <td>D-20181231-0000087-00</td>\n",
              "      <td>2019-01-03 오전 9:30</td>\n",
              "      <td>2019-01-07 오전 5:32</td>\n",
              "      <td>81600</td>\n",
              "      <td>1085.0</td>\n",
              "      <td>1</td>\n",
              "      <td>모바일웹</td>\n",
              "      <td>20181231</td>\n",
              "    </tr>\n",
              "    <tr>\n",
              "      <th>4</th>\n",
              "      <td>무통장입금</td>\n",
              "      <td>D-20181231-0000108-00</td>\n",
              "      <td>2019-01-07 오전 8:56</td>\n",
              "      <td>2019-01-11 오전 5:32</td>\n",
              "      <td>94710</td>\n",
              "      <td>1106.0</td>\n",
              "      <td>1</td>\n",
              "      <td>모바일웹</td>\n",
              "      <td>20181231</td>\n",
              "    </tr>\n",
              "    <tr>\n",
              "      <th>...</th>\n",
              "      <td>...</td>\n",
              "      <td>...</td>\n",
              "      <td>...</td>\n",
              "      <td>...</td>\n",
              "      <td>...</td>\n",
              "      <td>...</td>\n",
              "      <td>...</td>\n",
              "      <td>...</td>\n",
              "      <td>...</td>\n",
              "    </tr>\n",
              "    <tr>\n",
              "      <th>46744</th>\n",
              "      <td>카드</td>\n",
              "      <td>D-20171229-0000036-00</td>\n",
              "      <td>2017-12-29 오후 4:32</td>\n",
              "      <td>2018-01-02 오전 5:31</td>\n",
              "      <td>52800</td>\n",
              "      <td>445.0</td>\n",
              "      <td>1</td>\n",
              "      <td>모바일웹</td>\n",
              "      <td>20171229</td>\n",
              "    </tr>\n",
              "    <tr>\n",
              "      <th>46745</th>\n",
              "      <td>카드</td>\n",
              "      <td>D-20171229-0000043-00</td>\n",
              "      <td>2018-01-03 오전 9:45</td>\n",
              "      <td>2018-01-07 오전 5:38</td>\n",
              "      <td>112200</td>\n",
              "      <td>172.0</td>\n",
              "      <td>2</td>\n",
              "      <td>모바일웹</td>\n",
              "      <td>20171229</td>\n",
              "    </tr>\n",
              "    <tr>\n",
              "      <th>46746</th>\n",
              "      <td>카드</td>\n",
              "      <td>D-20171230-0000022-01</td>\n",
              "      <td>2018-01-02 오후 7:06</td>\n",
              "      <td>2018-01-11 오전 2:46</td>\n",
              "      <td>36000</td>\n",
              "      <td>140.0</td>\n",
              "      <td>1</td>\n",
              "      <td>네이버 페이</td>\n",
              "      <td>20171230</td>\n",
              "    </tr>\n",
              "    <tr>\n",
              "      <th>46747</th>\n",
              "      <td>카드</td>\n",
              "      <td>D-20171231-0000017-01</td>\n",
              "      <td>2018-01-03 오후 2:00</td>\n",
              "      <td>2018-01-06 오후 6:06</td>\n",
              "      <td>73460</td>\n",
              "      <td>184.0</td>\n",
              "      <td>1</td>\n",
              "      <td>네이버 페이</td>\n",
              "      <td>20171231</td>\n",
              "    </tr>\n",
              "    <tr>\n",
              "      <th>46748</th>\n",
              "      <td>카드</td>\n",
              "      <td>D-20171231-0000026-00</td>\n",
              "      <td>2018-01-03 오후 12:43</td>\n",
              "      <td>2018-01-07 오전 5:38</td>\n",
              "      <td>81620</td>\n",
              "      <td>479.0</td>\n",
              "      <td>1</td>\n",
              "      <td>모바일웹</td>\n",
              "      <td>20171231</td>\n",
              "    </tr>\n",
              "  </tbody>\n",
              "</table>\n",
              "<p>46749 rows × 9 columns</p>\n",
              "</div>\n",
              "    <div class=\"colab-df-buttons\">\n",
              "\n",
              "  <div class=\"colab-df-container\">\n",
              "    <button class=\"colab-df-convert\" onclick=\"convertToInteractive('df-250aa7a5-e56d-4f5e-99d5-d1f6115baf65')\"\n",
              "            title=\"Convert this dataframe to an interactive table.\"\n",
              "            style=\"display:none;\">\n",
              "\n",
              "  <svg xmlns=\"http://www.w3.org/2000/svg\" height=\"24px\" viewBox=\"0 -960 960 960\">\n",
              "    <path d=\"M120-120v-720h720v720H120Zm60-500h600v-160H180v160Zm220 220h160v-160H400v160Zm0 220h160v-160H400v160ZM180-400h160v-160H180v160Zm440 0h160v-160H620v160ZM180-180h160v-160H180v160Zm440 0h160v-160H620v160Z\"/>\n",
              "  </svg>\n",
              "    </button>\n",
              "\n",
              "  <style>\n",
              "    .colab-df-container {\n",
              "      display:flex;\n",
              "      gap: 12px;\n",
              "    }\n",
              "\n",
              "    .colab-df-convert {\n",
              "      background-color: #E8F0FE;\n",
              "      border: none;\n",
              "      border-radius: 50%;\n",
              "      cursor: pointer;\n",
              "      display: none;\n",
              "      fill: #1967D2;\n",
              "      height: 32px;\n",
              "      padding: 0 0 0 0;\n",
              "      width: 32px;\n",
              "    }\n",
              "\n",
              "    .colab-df-convert:hover {\n",
              "      background-color: #E2EBFA;\n",
              "      box-shadow: 0px 1px 2px rgba(60, 64, 67, 0.3), 0px 1px 3px 1px rgba(60, 64, 67, 0.15);\n",
              "      fill: #174EA6;\n",
              "    }\n",
              "\n",
              "    .colab-df-buttons div {\n",
              "      margin-bottom: 4px;\n",
              "    }\n",
              "\n",
              "    [theme=dark] .colab-df-convert {\n",
              "      background-color: #3B4455;\n",
              "      fill: #D2E3FC;\n",
              "    }\n",
              "\n",
              "    [theme=dark] .colab-df-convert:hover {\n",
              "      background-color: #434B5C;\n",
              "      box-shadow: 0px 1px 3px 1px rgba(0, 0, 0, 0.15);\n",
              "      filter: drop-shadow(0px 1px 2px rgba(0, 0, 0, 0.3));\n",
              "      fill: #FFFFFF;\n",
              "    }\n",
              "  </style>\n",
              "\n",
              "    <script>\n",
              "      const buttonEl =\n",
              "        document.querySelector('#df-250aa7a5-e56d-4f5e-99d5-d1f6115baf65 button.colab-df-convert');\n",
              "      buttonEl.style.display =\n",
              "        google.colab.kernel.accessAllowed ? 'block' : 'none';\n",
              "\n",
              "      async function convertToInteractive(key) {\n",
              "        const element = document.querySelector('#df-250aa7a5-e56d-4f5e-99d5-d1f6115baf65');\n",
              "        const dataTable =\n",
              "          await google.colab.kernel.invokeFunction('convertToInteractive',\n",
              "                                                    [key], {});\n",
              "        if (!dataTable) return;\n",
              "\n",
              "        const docLinkHtml = 'Like what you see? Visit the ' +\n",
              "          '<a target=\"_blank\" href=https://colab.research.google.com/notebooks/data_table.ipynb>data table notebook</a>'\n",
              "          + ' to learn more about interactive tables.';\n",
              "        element.innerHTML = '';\n",
              "        dataTable['output_type'] = 'display_data';\n",
              "        await google.colab.output.renderOutput(dataTable, element);\n",
              "        const docLink = document.createElement('div');\n",
              "        docLink.innerHTML = docLinkHtml;\n",
              "        element.appendChild(docLink);\n",
              "      }\n",
              "    </script>\n",
              "  </div>\n",
              "\n",
              "\n",
              "<div id=\"df-84013460-91d8-436a-bbb8-5c49ac26473f\">\n",
              "  <button class=\"colab-df-quickchart\" onclick=\"quickchart('df-84013460-91d8-436a-bbb8-5c49ac26473f')\"\n",
              "            title=\"Suggest charts\"\n",
              "            style=\"display:none;\">\n",
              "\n",
              "<svg xmlns=\"http://www.w3.org/2000/svg\" height=\"24px\"viewBox=\"0 0 24 24\"\n",
              "     width=\"24px\">\n",
              "    <g>\n",
              "        <path d=\"M19 3H5c-1.1 0-2 .9-2 2v14c0 1.1.9 2 2 2h14c1.1 0 2-.9 2-2V5c0-1.1-.9-2-2-2zM9 17H7v-7h2v7zm4 0h-2V7h2v10zm4 0h-2v-4h2v4z\"/>\n",
              "    </g>\n",
              "</svg>\n",
              "  </button>\n",
              "\n",
              "<style>\n",
              "  .colab-df-quickchart {\n",
              "      --bg-color: #E8F0FE;\n",
              "      --fill-color: #1967D2;\n",
              "      --hover-bg-color: #E2EBFA;\n",
              "      --hover-fill-color: #174EA6;\n",
              "      --disabled-fill-color: #AAA;\n",
              "      --disabled-bg-color: #DDD;\n",
              "  }\n",
              "\n",
              "  [theme=dark] .colab-df-quickchart {\n",
              "      --bg-color: #3B4455;\n",
              "      --fill-color: #D2E3FC;\n",
              "      --hover-bg-color: #434B5C;\n",
              "      --hover-fill-color: #FFFFFF;\n",
              "      --disabled-bg-color: #3B4455;\n",
              "      --disabled-fill-color: #666;\n",
              "  }\n",
              "\n",
              "  .colab-df-quickchart {\n",
              "    background-color: var(--bg-color);\n",
              "    border: none;\n",
              "    border-radius: 50%;\n",
              "    cursor: pointer;\n",
              "    display: none;\n",
              "    fill: var(--fill-color);\n",
              "    height: 32px;\n",
              "    padding: 0;\n",
              "    width: 32px;\n",
              "  }\n",
              "\n",
              "  .colab-df-quickchart:hover {\n",
              "    background-color: var(--hover-bg-color);\n",
              "    box-shadow: 0 1px 2px rgba(60, 64, 67, 0.3), 0 1px 3px 1px rgba(60, 64, 67, 0.15);\n",
              "    fill: var(--button-hover-fill-color);\n",
              "  }\n",
              "\n",
              "  .colab-df-quickchart-complete:disabled,\n",
              "  .colab-df-quickchart-complete:disabled:hover {\n",
              "    background-color: var(--disabled-bg-color);\n",
              "    fill: var(--disabled-fill-color);\n",
              "    box-shadow: none;\n",
              "  }\n",
              "\n",
              "  .colab-df-spinner {\n",
              "    border: 2px solid var(--fill-color);\n",
              "    border-color: transparent;\n",
              "    border-bottom-color: var(--fill-color);\n",
              "    animation:\n",
              "      spin 1s steps(1) infinite;\n",
              "  }\n",
              "\n",
              "  @keyframes spin {\n",
              "    0% {\n",
              "      border-color: transparent;\n",
              "      border-bottom-color: var(--fill-color);\n",
              "      border-left-color: var(--fill-color);\n",
              "    }\n",
              "    20% {\n",
              "      border-color: transparent;\n",
              "      border-left-color: var(--fill-color);\n",
              "      border-top-color: var(--fill-color);\n",
              "    }\n",
              "    30% {\n",
              "      border-color: transparent;\n",
              "      border-left-color: var(--fill-color);\n",
              "      border-top-color: var(--fill-color);\n",
              "      border-right-color: var(--fill-color);\n",
              "    }\n",
              "    40% {\n",
              "      border-color: transparent;\n",
              "      border-right-color: var(--fill-color);\n",
              "      border-top-color: var(--fill-color);\n",
              "    }\n",
              "    60% {\n",
              "      border-color: transparent;\n",
              "      border-right-color: var(--fill-color);\n",
              "    }\n",
              "    80% {\n",
              "      border-color: transparent;\n",
              "      border-right-color: var(--fill-color);\n",
              "      border-bottom-color: var(--fill-color);\n",
              "    }\n",
              "    90% {\n",
              "      border-color: transparent;\n",
              "      border-bottom-color: var(--fill-color);\n",
              "    }\n",
              "  }\n",
              "</style>\n",
              "\n",
              "  <script>\n",
              "    async function quickchart(key) {\n",
              "      const quickchartButtonEl =\n",
              "        document.querySelector('#' + key + ' button');\n",
              "      quickchartButtonEl.disabled = true;  // To prevent multiple clicks.\n",
              "      quickchartButtonEl.classList.add('colab-df-spinner');\n",
              "      try {\n",
              "        const charts = await google.colab.kernel.invokeFunction(\n",
              "            'suggestCharts', [key], {});\n",
              "      } catch (error) {\n",
              "        console.error('Error during call to suggestCharts:', error);\n",
              "      }\n",
              "      quickchartButtonEl.classList.remove('colab-df-spinner');\n",
              "      quickchartButtonEl.classList.add('colab-df-quickchart-complete');\n",
              "    }\n",
              "    (() => {\n",
              "      let quickchartButtonEl =\n",
              "        document.querySelector('#df-84013460-91d8-436a-bbb8-5c49ac26473f button');\n",
              "      quickchartButtonEl.style.display =\n",
              "        google.colab.kernel.accessAllowed ? 'block' : 'none';\n",
              "    })();\n",
              "  </script>\n",
              "</div>\n",
              "\n",
              "  <div id=\"id_560a43cf-d456-4c8e-b4e3-96ad40f412cc\">\n",
              "    <style>\n",
              "      .colab-df-generate {\n",
              "        background-color: #E8F0FE;\n",
              "        border: none;\n",
              "        border-radius: 50%;\n",
              "        cursor: pointer;\n",
              "        display: none;\n",
              "        fill: #1967D2;\n",
              "        height: 32px;\n",
              "        padding: 0 0 0 0;\n",
              "        width: 32px;\n",
              "      }\n",
              "\n",
              "      .colab-df-generate:hover {\n",
              "        background-color: #E2EBFA;\n",
              "        box-shadow: 0px 1px 2px rgba(60, 64, 67, 0.3), 0px 1px 3px 1px rgba(60, 64, 67, 0.15);\n",
              "        fill: #174EA6;\n",
              "      }\n",
              "\n",
              "      [theme=dark] .colab-df-generate {\n",
              "        background-color: #3B4455;\n",
              "        fill: #D2E3FC;\n",
              "      }\n",
              "\n",
              "      [theme=dark] .colab-df-generate:hover {\n",
              "        background-color: #434B5C;\n",
              "        box-shadow: 0px 1px 3px 1px rgba(0, 0, 0, 0.15);\n",
              "        filter: drop-shadow(0px 1px 2px rgba(0, 0, 0, 0.3));\n",
              "        fill: #FFFFFF;\n",
              "      }\n",
              "    </style>\n",
              "    <button class=\"colab-df-generate\" onclick=\"generateWithVariable('df_shopping')\"\n",
              "            title=\"Generate code using this dataframe.\"\n",
              "            style=\"display:none;\">\n",
              "\n",
              "  <svg xmlns=\"http://www.w3.org/2000/svg\" height=\"24px\"viewBox=\"0 0 24 24\"\n",
              "       width=\"24px\">\n",
              "    <path d=\"M7,19H8.4L18.45,9,17,7.55,7,17.6ZM5,21V16.75L18.45,3.32a2,2,0,0,1,2.83,0l1.4,1.43a1.91,1.91,0,0,1,.58,1.4,1.91,1.91,0,0,1-.58,1.4L9.25,21ZM18.45,9,17,7.55Zm-12,3A5.31,5.31,0,0,0,4.9,8.1,5.31,5.31,0,0,0,1,6.5,5.31,5.31,0,0,0,4.9,4.9,5.31,5.31,0,0,0,6.5,1,5.31,5.31,0,0,0,8.1,4.9,5.31,5.31,0,0,0,12,6.5,5.46,5.46,0,0,0,6.5,12Z\"/>\n",
              "  </svg>\n",
              "    </button>\n",
              "    <script>\n",
              "      (() => {\n",
              "      const buttonEl =\n",
              "        document.querySelector('#id_560a43cf-d456-4c8e-b4e3-96ad40f412cc button.colab-df-generate');\n",
              "      buttonEl.style.display =\n",
              "        google.colab.kernel.accessAllowed ? 'block' : 'none';\n",
              "\n",
              "      buttonEl.onclick = () => {\n",
              "        google.colab.notebook.generateWithVariable('df_shopping');\n",
              "      }\n",
              "      })();\n",
              "    </script>\n",
              "  </div>\n",
              "\n",
              "    </div>\n",
              "  </div>\n"
            ]
          },
          "metadata": {},
          "execution_count": 5
        }
      ]
    },
    {
      "cell_type": "code",
      "source": [
        "df_shopping.describe(include='object')"
      ],
      "metadata": {
        "colab": {
          "base_uri": "https://localhost:8080/",
          "height": 175
        },
        "id": "nHXQkk3z_fd3",
        "outputId": "27359f42-905d-4ec4-ae0c-9e083849ac00"
      },
      "execution_count": 6,
      "outputs": [
        {
          "output_type": "execute_result",
          "data": {
            "text/plain": [
              "         결제수단                   배송번호               배송시작일               배송완료일  \\\n",
              "count   46749                  46749               46749               46749   \n",
              "unique     44                  37691                1548                2559   \n",
              "top     무통장입금  D-20180316-0000178-00  2018-12-19 오후 5:36  2019-02-02 오전 5:32   \n",
              "freq    24171                      7                 388                 547   \n",
              "\n",
              "         주문경로  \n",
              "count   46749  \n",
              "unique      3  \n",
              "top     PC쇼핑몰  \n",
              "freq    25695  "
            ],
            "text/html": [
              "\n",
              "  <div id=\"df-ffd253bf-c5dc-47ea-8fe6-1710ad35d624\" class=\"colab-df-container\">\n",
              "    <div>\n",
              "<style scoped>\n",
              "    .dataframe tbody tr th:only-of-type {\n",
              "        vertical-align: middle;\n",
              "    }\n",
              "\n",
              "    .dataframe tbody tr th {\n",
              "        vertical-align: top;\n",
              "    }\n",
              "\n",
              "    .dataframe thead th {\n",
              "        text-align: right;\n",
              "    }\n",
              "</style>\n",
              "<table border=\"1\" class=\"dataframe\">\n",
              "  <thead>\n",
              "    <tr style=\"text-align: right;\">\n",
              "      <th></th>\n",
              "      <th>결제수단</th>\n",
              "      <th>배송번호</th>\n",
              "      <th>배송시작일</th>\n",
              "      <th>배송완료일</th>\n",
              "      <th>주문경로</th>\n",
              "    </tr>\n",
              "  </thead>\n",
              "  <tbody>\n",
              "    <tr>\n",
              "      <th>count</th>\n",
              "      <td>46749</td>\n",
              "      <td>46749</td>\n",
              "      <td>46749</td>\n",
              "      <td>46749</td>\n",
              "      <td>46749</td>\n",
              "    </tr>\n",
              "    <tr>\n",
              "      <th>unique</th>\n",
              "      <td>44</td>\n",
              "      <td>37691</td>\n",
              "      <td>1548</td>\n",
              "      <td>2559</td>\n",
              "      <td>3</td>\n",
              "    </tr>\n",
              "    <tr>\n",
              "      <th>top</th>\n",
              "      <td>무통장입금</td>\n",
              "      <td>D-20180316-0000178-00</td>\n",
              "      <td>2018-12-19 오후 5:36</td>\n",
              "      <td>2019-02-02 오전 5:32</td>\n",
              "      <td>PC쇼핑몰</td>\n",
              "    </tr>\n",
              "    <tr>\n",
              "      <th>freq</th>\n",
              "      <td>24171</td>\n",
              "      <td>7</td>\n",
              "      <td>388</td>\n",
              "      <td>547</td>\n",
              "      <td>25695</td>\n",
              "    </tr>\n",
              "  </tbody>\n",
              "</table>\n",
              "</div>\n",
              "    <div class=\"colab-df-buttons\">\n",
              "\n",
              "  <div class=\"colab-df-container\">\n",
              "    <button class=\"colab-df-convert\" onclick=\"convertToInteractive('df-ffd253bf-c5dc-47ea-8fe6-1710ad35d624')\"\n",
              "            title=\"Convert this dataframe to an interactive table.\"\n",
              "            style=\"display:none;\">\n",
              "\n",
              "  <svg xmlns=\"http://www.w3.org/2000/svg\" height=\"24px\" viewBox=\"0 -960 960 960\">\n",
              "    <path d=\"M120-120v-720h720v720H120Zm60-500h600v-160H180v160Zm220 220h160v-160H400v160Zm0 220h160v-160H400v160ZM180-400h160v-160H180v160Zm440 0h160v-160H620v160ZM180-180h160v-160H180v160Zm440 0h160v-160H620v160Z\"/>\n",
              "  </svg>\n",
              "    </button>\n",
              "\n",
              "  <style>\n",
              "    .colab-df-container {\n",
              "      display:flex;\n",
              "      gap: 12px;\n",
              "    }\n",
              "\n",
              "    .colab-df-convert {\n",
              "      background-color: #E8F0FE;\n",
              "      border: none;\n",
              "      border-radius: 50%;\n",
              "      cursor: pointer;\n",
              "      display: none;\n",
              "      fill: #1967D2;\n",
              "      height: 32px;\n",
              "      padding: 0 0 0 0;\n",
              "      width: 32px;\n",
              "    }\n",
              "\n",
              "    .colab-df-convert:hover {\n",
              "      background-color: #E2EBFA;\n",
              "      box-shadow: 0px 1px 2px rgba(60, 64, 67, 0.3), 0px 1px 3px 1px rgba(60, 64, 67, 0.15);\n",
              "      fill: #174EA6;\n",
              "    }\n",
              "\n",
              "    .colab-df-buttons div {\n",
              "      margin-bottom: 4px;\n",
              "    }\n",
              "\n",
              "    [theme=dark] .colab-df-convert {\n",
              "      background-color: #3B4455;\n",
              "      fill: #D2E3FC;\n",
              "    }\n",
              "\n",
              "    [theme=dark] .colab-df-convert:hover {\n",
              "      background-color: #434B5C;\n",
              "      box-shadow: 0px 1px 3px 1px rgba(0, 0, 0, 0.15);\n",
              "      filter: drop-shadow(0px 1px 2px rgba(0, 0, 0, 0.3));\n",
              "      fill: #FFFFFF;\n",
              "    }\n",
              "  </style>\n",
              "\n",
              "    <script>\n",
              "      const buttonEl =\n",
              "        document.querySelector('#df-ffd253bf-c5dc-47ea-8fe6-1710ad35d624 button.colab-df-convert');\n",
              "      buttonEl.style.display =\n",
              "        google.colab.kernel.accessAllowed ? 'block' : 'none';\n",
              "\n",
              "      async function convertToInteractive(key) {\n",
              "        const element = document.querySelector('#df-ffd253bf-c5dc-47ea-8fe6-1710ad35d624');\n",
              "        const dataTable =\n",
              "          await google.colab.kernel.invokeFunction('convertToInteractive',\n",
              "                                                    [key], {});\n",
              "        if (!dataTable) return;\n",
              "\n",
              "        const docLinkHtml = 'Like what you see? Visit the ' +\n",
              "          '<a target=\"_blank\" href=https://colab.research.google.com/notebooks/data_table.ipynb>data table notebook</a>'\n",
              "          + ' to learn more about interactive tables.';\n",
              "        element.innerHTML = '';\n",
              "        dataTable['output_type'] = 'display_data';\n",
              "        await google.colab.output.renderOutput(dataTable, element);\n",
              "        const docLink = document.createElement('div');\n",
              "        docLink.innerHTML = docLinkHtml;\n",
              "        element.appendChild(docLink);\n",
              "      }\n",
              "    </script>\n",
              "  </div>\n",
              "\n",
              "\n",
              "<div id=\"df-adacdc31-a867-45a8-a617-75fed42d4c53\">\n",
              "  <button class=\"colab-df-quickchart\" onclick=\"quickchart('df-adacdc31-a867-45a8-a617-75fed42d4c53')\"\n",
              "            title=\"Suggest charts\"\n",
              "            style=\"display:none;\">\n",
              "\n",
              "<svg xmlns=\"http://www.w3.org/2000/svg\" height=\"24px\"viewBox=\"0 0 24 24\"\n",
              "     width=\"24px\">\n",
              "    <g>\n",
              "        <path d=\"M19 3H5c-1.1 0-2 .9-2 2v14c0 1.1.9 2 2 2h14c1.1 0 2-.9 2-2V5c0-1.1-.9-2-2-2zM9 17H7v-7h2v7zm4 0h-2V7h2v10zm4 0h-2v-4h2v4z\"/>\n",
              "    </g>\n",
              "</svg>\n",
              "  </button>\n",
              "\n",
              "<style>\n",
              "  .colab-df-quickchart {\n",
              "      --bg-color: #E8F0FE;\n",
              "      --fill-color: #1967D2;\n",
              "      --hover-bg-color: #E2EBFA;\n",
              "      --hover-fill-color: #174EA6;\n",
              "      --disabled-fill-color: #AAA;\n",
              "      --disabled-bg-color: #DDD;\n",
              "  }\n",
              "\n",
              "  [theme=dark] .colab-df-quickchart {\n",
              "      --bg-color: #3B4455;\n",
              "      --fill-color: #D2E3FC;\n",
              "      --hover-bg-color: #434B5C;\n",
              "      --hover-fill-color: #FFFFFF;\n",
              "      --disabled-bg-color: #3B4455;\n",
              "      --disabled-fill-color: #666;\n",
              "  }\n",
              "\n",
              "  .colab-df-quickchart {\n",
              "    background-color: var(--bg-color);\n",
              "    border: none;\n",
              "    border-radius: 50%;\n",
              "    cursor: pointer;\n",
              "    display: none;\n",
              "    fill: var(--fill-color);\n",
              "    height: 32px;\n",
              "    padding: 0;\n",
              "    width: 32px;\n",
              "  }\n",
              "\n",
              "  .colab-df-quickchart:hover {\n",
              "    background-color: var(--hover-bg-color);\n",
              "    box-shadow: 0 1px 2px rgba(60, 64, 67, 0.3), 0 1px 3px 1px rgba(60, 64, 67, 0.15);\n",
              "    fill: var(--button-hover-fill-color);\n",
              "  }\n",
              "\n",
              "  .colab-df-quickchart-complete:disabled,\n",
              "  .colab-df-quickchart-complete:disabled:hover {\n",
              "    background-color: var(--disabled-bg-color);\n",
              "    fill: var(--disabled-fill-color);\n",
              "    box-shadow: none;\n",
              "  }\n",
              "\n",
              "  .colab-df-spinner {\n",
              "    border: 2px solid var(--fill-color);\n",
              "    border-color: transparent;\n",
              "    border-bottom-color: var(--fill-color);\n",
              "    animation:\n",
              "      spin 1s steps(1) infinite;\n",
              "  }\n",
              "\n",
              "  @keyframes spin {\n",
              "    0% {\n",
              "      border-color: transparent;\n",
              "      border-bottom-color: var(--fill-color);\n",
              "      border-left-color: var(--fill-color);\n",
              "    }\n",
              "    20% {\n",
              "      border-color: transparent;\n",
              "      border-left-color: var(--fill-color);\n",
              "      border-top-color: var(--fill-color);\n",
              "    }\n",
              "    30% {\n",
              "      border-color: transparent;\n",
              "      border-left-color: var(--fill-color);\n",
              "      border-top-color: var(--fill-color);\n",
              "      border-right-color: var(--fill-color);\n",
              "    }\n",
              "    40% {\n",
              "      border-color: transparent;\n",
              "      border-right-color: var(--fill-color);\n",
              "      border-top-color: var(--fill-color);\n",
              "    }\n",
              "    60% {\n",
              "      border-color: transparent;\n",
              "      border-right-color: var(--fill-color);\n",
              "    }\n",
              "    80% {\n",
              "      border-color: transparent;\n",
              "      border-right-color: var(--fill-color);\n",
              "      border-bottom-color: var(--fill-color);\n",
              "    }\n",
              "    90% {\n",
              "      border-color: transparent;\n",
              "      border-bottom-color: var(--fill-color);\n",
              "    }\n",
              "  }\n",
              "</style>\n",
              "\n",
              "  <script>\n",
              "    async function quickchart(key) {\n",
              "      const quickchartButtonEl =\n",
              "        document.querySelector('#' + key + ' button');\n",
              "      quickchartButtonEl.disabled = true;  // To prevent multiple clicks.\n",
              "      quickchartButtonEl.classList.add('colab-df-spinner');\n",
              "      try {\n",
              "        const charts = await google.colab.kernel.invokeFunction(\n",
              "            'suggestCharts', [key], {});\n",
              "      } catch (error) {\n",
              "        console.error('Error during call to suggestCharts:', error);\n",
              "      }\n",
              "      quickchartButtonEl.classList.remove('colab-df-spinner');\n",
              "      quickchartButtonEl.classList.add('colab-df-quickchart-complete');\n",
              "    }\n",
              "    (() => {\n",
              "      let quickchartButtonEl =\n",
              "        document.querySelector('#df-adacdc31-a867-45a8-a617-75fed42d4c53 button');\n",
              "      quickchartButtonEl.style.display =\n",
              "        google.colab.kernel.accessAllowed ? 'block' : 'none';\n",
              "    })();\n",
              "  </script>\n",
              "</div>\n",
              "\n",
              "    </div>\n",
              "  </div>\n"
            ]
          },
          "metadata": {},
          "execution_count": 6
        }
      ]
    },
    {
      "cell_type": "markdown",
      "source": [
        "### 결제 수단_loc 사용"
      ],
      "metadata": {
        "id": "N_6t0Ua_Fwxh"
      }
    },
    {
      "cell_type": "code",
      "source": [
        "series_payment = df_shopping['결제수단'].value_counts()\n",
        "series_payment"
      ],
      "metadata": {
        "colab": {
          "base_uri": "https://localhost:8080/"
        },
        "id": "ahsbmg_qAKSj",
        "outputId": "7a73307a-fda2-4ee0-df24-932c328e2d61"
      },
      "execution_count": 7,
      "outputs": [
        {
          "output_type": "execute_result",
          "data": {
            "text/plain": [
              "무통장입금                 24171\n",
              "카드                    13703\n",
              "적립금,무통장입금              3374\n",
              "쿠폰,카드                  1306\n",
              "적립금,카드                 1276\n",
              "쿠폰,무통장입금               1204\n",
              "휴대폰                     430\n",
              "실시간계좌이체                 322\n",
              "예치금,무통장입금               175\n",
              "가상계좌                    130\n",
              "카드,무통장입금                100\n",
              "카카오페이(카드)                77\n",
              "쿠폰,휴대폰                   67\n",
              "페이나우(카드)                 50\n",
              "예치금,적립금,무통장입금            47\n",
              "적립금,휴대폰                  37\n",
              "적립금,가상계좌                 30\n",
              "예치금,카드                   28\n",
              "예치금                      25\n",
              "카카오페이(카카오머니)             22\n",
              "페이나우(실시간 계좌이체)           21\n",
              "에스크로(실시간계좌이체)            20\n",
              "적립금                      16\n",
              "쿠폰,카카오페이(카드)             16\n",
              "쿠폰,카드,무통장입금              13\n",
              "쿠폰,페이나우(카드)              11\n",
              "무통장입금,휴대폰                 9\n",
              "적립금,페이나우(카드)              9\n",
              "예치금,적립금,카드                8\n",
              "적립금,카카오페이(카드)             7\n",
              "쿠폰,에스크로(실시간계좌이체)          6\n",
              "적립금,실시간계좌이체               6\n",
              "예치금,쿠폰,무통장입금              6\n",
              "예치금,휴대폰                   5\n",
              "쿠폰,가상계좌                   4\n",
              "예치금,쿠폰,카드                 4\n",
              "적립금,카카오페이(카카오머니)          3\n",
              "적립금,페이나우(실시간 계좌이체)        3\n",
              "적립금,카드,무통장입금              2\n",
              "무통장입금,실시간계좌이체             2\n",
              "에스크로(가상계좌)                1\n",
              "쿠폰,예치금                    1\n",
              "페이나우(카드),무통장입금            1\n",
              "예치금,실시간계좌이체               1\n",
              "Name: 결제수단, dtype: int64"
            ]
          },
          "metadata": {},
          "execution_count": 7
        }
      ]
    },
    {
      "cell_type": "code",
      "source": [
        "first_third_element=series_payment.index[2]\n",
        "last_third_element = series_payment.tail(3).index[2]"
      ],
      "metadata": {
        "id": "V43ZygZ6GVkh"
      },
      "execution_count": 8,
      "outputs": []
    },
    {
      "cell_type": "code",
      "source": [
        "payment_top_list = series_payment.loc[:first_third_element].index.to_list()\n",
        "payment_last_list = series_payment.loc[last_third_element:].index.to_list()"
      ],
      "metadata": {
        "id": "jm7cJbcqEYnl"
      },
      "execution_count": 9,
      "outputs": []
    },
    {
      "cell_type": "code",
      "source": [
        "sns.countplot(data=df_shopping,  y='결제수단', order=payment_top_list)"
      ],
      "metadata": {
        "colab": {
          "base_uri": "https://localhost:8080/",
          "height": 467
        },
        "id": "GjjV9ToAEqCZ",
        "outputId": "50d8eebd-4ccc-4f26-f570-f9bbcaa5ebd9"
      },
      "execution_count": 10,
      "outputs": [
        {
          "output_type": "execute_result",
          "data": {
            "text/plain": [
              "<Axes: xlabel='count', ylabel='결제수단'>"
            ]
          },
          "metadata": {},
          "execution_count": 10
        },
        {
          "output_type": "display_data",
          "data": {
            "text/plain": [
              "<Figure size 640x480 with 1 Axes>"
            ],
            "image/png": "[encoded data removed]"
          },
          "metadata": {}
        }
      ]
    },
    {
      "cell_type": "code",
      "source": [
        "sns.countplot(data=df_shopping,  y='결제수단', order=payment_last_list)"
      ],
      "metadata": {
        "colab": {
          "base_uri": "https://localhost:8080/",
          "height": 467
        },
        "id": "5n3-z0s_EvUY",
        "outputId": "bf477a45-8554-49f4-cee1-ea3efd54e40c"
      },
      "execution_count": 11,
      "outputs": [
        {
          "output_type": "execute_result",
          "data": {
            "text/plain": [
              "<Axes: xlabel='count', ylabel='결제수단'>"
            ]
          },
          "metadata": {},
          "execution_count": 11
        },
        {
          "output_type": "display_data",
          "data": {
            "text/plain": [
              "<Figure size 640x480 with 1 Axes>"
            ],
            "image/png": "[encoded data removed]"
          },
          "metadata": {}
        }
      ]
    },
    {
      "cell_type": "markdown",
      "source": [
        "### 배송번호_iloc 사용"
      ],
      "metadata": {
        "id": "qHIjPnmCF1ph"
      }
    },
    {
      "cell_type": "code",
      "source": [
        "series_delivary = df_shopping['배송번호'].value_counts()\n",
        "series_delivary"
      ],
      "metadata": {
        "colab": {
          "base_uri": "https://localhost:8080/"
        },
        "id": "uZts0Pi9AIDg",
        "outputId": "b22b77b2-5748-4017-ddc1-e76e399852d2"
      },
      "execution_count": 12,
      "outputs": [
        {
          "output_type": "execute_result",
          "data": {
            "text/plain": [
              "D-20180316-0000178-00    7\n",
              "D-20180226-0000118-00    6\n",
              "D-20171114-0000144-00    5\n",
              "D-20180628-0000389-00    5\n",
              "D-20180803-0000372-00    4\n",
              "                        ..\n",
              "D-20190417-0000673-00    1\n",
              "D-20190417-0000686-00    1\n",
              "D-20190417-0000698-00    1\n",
              "D-20190417-0000698-01    1\n",
              "D-20171231-0000026-00    1\n",
              "Name: 배송번호, Length: 37691, dtype: int64"
            ]
          },
          "metadata": {},
          "execution_count": 12
        }
      ]
    },
    {
      "cell_type": "code",
      "source": [
        "delivary_top_list = series_delivary.iloc[:3].index.to_list()\n",
        "delivary_last_list = series_delivary.iloc[-3:].index.to_list()"
      ],
      "metadata": {
        "id": "C3RhF_X0D2ag"
      },
      "execution_count": 13,
      "outputs": []
    },
    {
      "cell_type": "code",
      "source": [
        "sns.countplot(data=df_shopping,  y='배송번호', order=delivary_top_list)"
      ],
      "metadata": {
        "colab": {
          "base_uri": "https://localhost:8080/",
          "height": 467
        },
        "id": "z12ntdmXEEyQ",
        "outputId": "de600136-00b4-46e2-83e4-d1c9332856c3"
      },
      "execution_count": 14,
      "outputs": [
        {
          "output_type": "execute_result",
          "data": {
            "text/plain": [
              "<Axes: xlabel='count', ylabel='배송번호'>"
            ]
          },
          "metadata": {},
          "execution_count": 14
        },
        {
          "output_type": "display_data",
          "data": {
            "text/plain": [
              "<Figure size 640x480 with 1 Axes>"
            ],
            "image/png": "[encoded data removed]"
          },
          "metadata": {}
        }
      ]
    },
    {
      "cell_type": "code",
      "source": [
        "sns.countplot(data=df_shopping,  y='배송번호', order=delivary_last_list)"
      ],
      "metadata": {
        "colab": {
          "base_uri": "https://localhost:8080/",
          "height": 467
        },
        "id": "4rJ0FxqqEQ8Q",
        "outputId": "0c18652f-b596-470b-9f59-57b6768904e5"
      },
      "execution_count": 15,
      "outputs": [
        {
          "output_type": "execute_result",
          "data": {
            "text/plain": [
              "<Axes: xlabel='count', ylabel='배송번호'>"
            ]
          },
          "metadata": {},
          "execution_count": 15
        },
        {
          "output_type": "display_data",
          "data": {
            "text/plain": [
              "<Figure size 640x480 with 1 Axes>"
            ],
            "image/png": "[encoded data removed]"
          },
          "metadata": {}
        }
      ]
    },
    {
      "cell_type": "markdown",
      "source": [
        "### 배송 시작일_loc 사용"
      ],
      "metadata": {
        "id": "xhSWBlMTFlMh"
      }
    },
    {
      "cell_type": "code",
      "source": [
        "series_depart = df_shopping['배송시작일'].value_counts()\n",
        "series_depart"
      ],
      "metadata": {
        "colab": {
          "base_uri": "https://localhost:8080/"
        },
        "id": "8avyTjOpAMcZ",
        "outputId": "40acda1a-d571-4f0d-f9ac-0ca2a84bd7ac"
      },
      "execution_count": 16,
      "outputs": [
        {
          "output_type": "execute_result",
          "data": {
            "text/plain": [
              "2018-12-19 오후 5:36     388\n",
              "2019-01-29 오전 8:45     320\n",
              "2019-02-08 오전 9:53     297\n",
              "2019-05-08 오전 10:03    278\n",
              "2018-12-26 오후 9:36     277\n",
              "                      ... \n",
              "2017-05-12 오후 3:52       1\n",
              "2017-05-12 오후 9:44       1\n",
              "2017-05-10 오후 10:25      1\n",
              "2017-05-10 오후 7:14       1\n",
              "2018-01-03 오후 2:00       1\n",
              "Name: 배송시작일, Length: 1548, dtype: int64"
            ]
          },
          "metadata": {},
          "execution_count": 16
        }
      ]
    },
    {
      "cell_type": "code",
      "source": [
        "first_third_element=series_depart.index[2]\n",
        "last_third_element = series_depart.tail(3).index[2]"
      ],
      "metadata": {
        "id": "seQqH-AVJBWq"
      },
      "execution_count": 17,
      "outputs": []
    },
    {
      "cell_type": "code",
      "source": [
        "depart_top_list = series_depart.loc[:first_third_element].index.to_list()\n",
        "depart_last_list = series_depart.loc[last_third_element:].index.to_list()"
      ],
      "metadata": {
        "id": "PenU_RtZEy6w"
      },
      "execution_count": 18,
      "outputs": []
    },
    {
      "cell_type": "code",
      "source": [
        "sns.countplot(data=df_shopping,  y='배송시작일', order=depart_top_list)"
      ],
      "metadata": {
        "colab": {
          "base_uri": "https://localhost:8080/",
          "height": 467
        },
        "id": "jJYG__BXARhZ",
        "outputId": "09c3c5a5-18f4-4402-a86e-784b78b8ceaf"
      },
      "execution_count": 19,
      "outputs": [
        {
          "output_type": "execute_result",
          "data": {
            "text/plain": [
              "<Axes: xlabel='count', ylabel='배송시작일'>"
            ]
          },
          "metadata": {},
          "execution_count": 19
        },
        {
          "output_type": "display_data",
          "data": {
            "text/plain": [
              "<Figure size 640x480 with 1 Axes>"
            ],
            "image/png": "[encoded data removed]"
          },
          "metadata": {}
        }
      ]
    },
    {
      "cell_type": "code",
      "source": [
        "sns.countplot(data=df_shopping,  y='배송시작일', order=depart_last_list)"
      ],
      "metadata": {
        "colab": {
          "base_uri": "https://localhost:8080/",
          "height": 467
        },
        "id": "iUPaczrXE_r4",
        "outputId": "44a7d822-30c1-4c38-d693-9d1e427c46f5"
      },
      "execution_count": 20,
      "outputs": [
        {
          "output_type": "execute_result",
          "data": {
            "text/plain": [
              "<Axes: xlabel='count', ylabel='배송시작일'>"
            ]
          },
          "metadata": {},
          "execution_count": 20
        },
        {
          "output_type": "display_data",
          "data": {
            "text/plain": [
              "<Figure size 640x480 with 1 Axes>"
            ],
            "image/png": "[encoded data removed]"
          },
          "metadata": {}
        }
      ]
    },
    {
      "cell_type": "markdown",
      "source": [
        "### 배송완료일_iloc 사용"
      ],
      "metadata": {
        "id": "Xd-RPcg1Fgc5"
      }
    },
    {
      "cell_type": "code",
      "source": [
        "series_arrival = df_shopping['배송완료일'].value_counts()\n",
        "series_arrival"
      ],
      "metadata": {
        "colab": {
          "base_uri": "https://localhost:8080/"
        },
        "id": "SxX7t3Y-_7jh",
        "outputId": "361a608c-b749-4700-d678-7d0acaf3ec0a"
      },
      "execution_count": 21,
      "outputs": [
        {
          "output_type": "execute_result",
          "data": {
            "text/plain": [
              "2019-02-02 오전 5:32     547\n",
              "2019-05-07 오전 5:32     507\n",
              "2019-02-12 오전 5:32     492\n",
              "2018-12-30 오전 5:32     483\n",
              "2018-11-02 오전 5:32     425\n",
              "                      ... \n",
              "2018-04-30 오후 3:42       1\n",
              "2018-04-30 오전 10:01      1\n",
              "2018-05-06 오전 2:14       1\n",
              "2018-05-02 오후 11:02      1\n",
              "2018-01-06 오후 6:06       1\n",
              "Name: 배송완료일, Length: 2559, dtype: int64"
            ]
          },
          "metadata": {},
          "execution_count": 21
        }
      ]
    },
    {
      "cell_type": "code",
      "source": [
        "arrival_last_list = series_arrival.iloc[-3:].index.to_list()\n",
        "arrival_top_list = series_arrival.iloc[:3].index.to_list()"
      ],
      "metadata": {
        "id": "G8AMIHfKCvHJ"
      },
      "execution_count": 22,
      "outputs": []
    },
    {
      "cell_type": "code",
      "source": [
        "sns.countplot(data=df_shopping,  y='배송완료일', order=arrival_top_list)"
      ],
      "metadata": {
        "colab": {
          "base_uri": "https://localhost:8080/",
          "height": 467
        },
        "id": "crrhzDUQC_SC",
        "outputId": "2987c6b6-6159-478c-c0d0-04c5eb84fa3a"
      },
      "execution_count": 23,
      "outputs": [
        {
          "output_type": "execute_result",
          "data": {
            "text/plain": [
              "<Axes: xlabel='count', ylabel='배송완료일'>"
            ]
          },
          "metadata": {},
          "execution_count": 23
        },
        {
          "output_type": "display_data",
          "data": {
            "text/plain": [
              "<Figure size 640x480 with 1 Axes>"
            ],
            "image/png": "[encoded data removed]"
          },
          "metadata": {}
        }
      ]
    },
    {
      "cell_type": "code",
      "source": [
        "sns.countplot(data=df_shopping,  y='배송완료일', order=arrival_last_list)"
      ],
      "metadata": {
        "colab": {
          "base_uri": "https://localhost:8080/",
          "height": 467
        },
        "id": "6iBIgUb5C45Q",
        "outputId": "3c6a23b1-b3b0-4586-c080-c6a8c608c700"
      },
      "execution_count": 24,
      "outputs": [
        {
          "output_type": "execute_result",
          "data": {
            "text/plain": [
              "<Axes: xlabel='count', ylabel='배송완료일'>"
            ]
          },
          "metadata": {},
          "execution_count": 24
        },
        {
          "output_type": "display_data",
          "data": {
            "text/plain": [
              "<Figure size 640x480 with 1 Axes>"
            ],
            "image/png": "[encoded data removed]"
          },
          "metadata": {}
        }
      ]
    },
    {
      "cell_type": "markdown",
      "source": [
        "### 주문경로_iloc 사용"
      ],
      "metadata": {
        "id": "_hy8hDJSFJjJ"
      }
    },
    {
      "cell_type": "code",
      "source": [
        "series_route = df_shopping['주문경로'].value_counts()\n",
        "series_route"
      ],
      "metadata": {
        "colab": {
          "base_uri": "https://localhost:8080/"
        },
        "id": "WVr23mu1_j93",
        "outputId": "a5dc10cf-d195-4c14-c316-7e8aaacdff75"
      },
      "execution_count": 25,
      "outputs": [
        {
          "output_type": "execute_result",
          "data": {
            "text/plain": [
              "PC쇼핑몰     25695\n",
              "모바일웹      18531\n",
              "네이버 페이     2523\n",
              "Name: 주문경로, dtype: int64"
            ]
          },
          "metadata": {},
          "execution_count": 25
        }
      ]
    },
    {
      "cell_type": "code",
      "source": [
        "route_top_list = series_route.iloc[:3].index.to_list()\n",
        "route_last_list = series_route.iloc[-3:].index.to_list()"
      ],
      "metadata": {
        "id": "Qm9OLl0sBgxI"
      },
      "execution_count": 26,
      "outputs": []
    },
    {
      "cell_type": "code",
      "source": [
        "sns.countplot(data=df_shopping,  y='주문경로', order=route_top_list)"
      ],
      "metadata": {
        "colab": {
          "base_uri": "https://localhost:8080/",
          "height": 467
        },
        "id": "GE6JfkR6BlG_",
        "outputId": "5077380b-1623-4245-f0dc-0e0ae41fc492"
      },
      "execution_count": 27,
      "outputs": [
        {
          "output_type": "execute_result",
          "data": {
            "text/plain": [
              "<Axes: xlabel='count', ylabel='주문경로'>"
            ]
          },
          "metadata": {},
          "execution_count": 27
        },
        {
          "output_type": "display_data",
          "data": {
            "text/plain": [
              "<Figure size 640x480 with 1 Axes>"
            ],
            "image/png": "[encoded data removed]"
          },
          "metadata": {}
        }
      ]
    },
    {
      "cell_type": "code",
      "source": [
        "sns.countplot(data=df_shopping,  y='주문경로', order=route_last_list)"
      ],
      "metadata": {
        "colab": {
          "base_uri": "https://localhost:8080/",
          "height": 467
        },
        "id": "rYaXSFA8Dmy5",
        "outputId": "1855cce9-93ad-4e38-8116-d1edd3796d48"
      },
      "execution_count": 28,
      "outputs": [
        {
          "output_type": "execute_result",
          "data": {
            "text/plain": [
              "<Axes: xlabel='count', ylabel='주문경로'>"
            ]
          },
          "metadata": {},
          "execution_count": 28
        },
        {
          "output_type": "display_data",
          "data": {
            "text/plain": [
              "<Figure size 640x480 with 1 Axes>"
            ],
            "image/png": "[encoded data removed]"
          },
          "metadata": {}
        }
      ]
    }
  ]
}