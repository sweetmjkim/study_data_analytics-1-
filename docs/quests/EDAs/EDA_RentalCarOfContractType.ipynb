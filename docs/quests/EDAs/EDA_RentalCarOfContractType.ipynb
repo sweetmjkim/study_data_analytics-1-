{
  "cells": [
    {
      "cell_type": "markdown",
      "metadata": {
        "colab_type": "text",
        "id": "view-in-github"
      },
      "source": [
        "<a href=\"https://colab.research.google.com/github/nohjuhyeon/study_data_analytics/blob/main/docs/quests/EDAs/EDA_LetalCarOfContractType.ipynb\" target=\"_parent\"><img src=\"https://colab.research.google.com/assets/colab-badge.svg\" alt=\"Open In Colab\"/></a>"
      ]
    },
    {
      "cell_type": "code",
      "execution_count": 1,
      "metadata": {
        "colab": {
          "base_uri": "https://localhost:8080/"
        },
        "id": "R_9XaWfvzPF-",
        "outputId": "711d1071-ea95-4517-aa0c-bb0ea8de3640"
      },
      "outputs": [
        {
          "name": "stdout",
          "output_type": "stream",
          "text": [
            "Reading package lists... Done\n",
            "Building dependency tree... Done\n",
            "Reading state information... Done\n",
            "fonts-nanum is already the newest version (20200506-1).\n",
            "0 upgraded, 0 newly installed, 0 to remove and 31 not upgraded.\n",
            "/usr/share/fonts: caching, new cache contents: 0 fonts, 1 dirs\n",
            "/usr/share/fonts/truetype: caching, new cache contents: 0 fonts, 3 dirs\n",
            "/usr/share/fonts/truetype/humor-sans: caching, new cache contents: 1 fonts, 0 dirs\n",
            "/usr/share/fonts/truetype/liberation: caching, new cache contents: 16 fonts, 0 dirs\n",
            "/usr/share/fonts/truetype/nanum: caching, new cache contents: 12 fonts, 0 dirs\n",
            "/usr/local/share/fonts: caching, new cache contents: 0 fonts, 0 dirs\n",
            "/root/.local/share/fonts: skipping, no such directory\n",
            "/root/.fonts: skipping, no such directory\n",
            "/usr/share/fonts/truetype: skipping, looped directory detected\n",
            "/usr/share/fonts/truetype/humor-sans: skipping, looped directory detected\n",
            "/usr/share/fonts/truetype/liberation: skipping, looped directory detected\n",
            "/usr/share/fonts/truetype/nanum: skipping, looped directory detected\n",
            "/var/cache/fontconfig: cleaning cache directory\n",
            "/root/.cache/fontconfig: not cleaning non-existent cache directory\n",
            "/root/.fontconfig: not cleaning non-existent cache directory\n",
            "fc-cache: succeeded\n"
          ]
        }
      ],
      "source": [
        "### 한글 폰트 설치\n",
        "!apt-get install -y fonts-nanum\n",
        "!fc-cache -fv\n",
        "!rm ~/.cache/matplotlib -rf\n",
        "# 설치 후 colab의 경우 Runtime > Restart session 필요"
      ]
    },
    {
      "cell_type": "code",
      "execution_count": 2,
      "metadata": {
        "id": "xrtYGGUSzR_u"
      },
      "outputs": [],
      "source": [
        "import matplotlib.pyplot as plt\n",
        "import matplotlib as mpl\n",
        "mpl.rc('font', family='NanumBarunGothic') # 혹은 다른 설치한 Nanum 폰트 사용"
      ]
    },
    {
      "cell_type": "markdown",
      "metadata": {
        "id": "BBQ4M0yKlzNH"
      },
      "source": [
        "## EDA 각 과정에서 insight 도출\n",
        "- 제안 3: 연체 위험도 예측\n",
        "  - 문제 정의: 고객의 연체 기록, 신용 등급, 계약 유형 등을 사용하여 미래의 연체 가능성을 예측합니다.\n",
        "  - 배경: 연체 위험도가 높은 고객을 사전에 식별하여, 적절한 조치를 취함으로써 재정적 손실을 최소화할 수 있습니다.\n",
        "\n"
      ]
    },
    {
      "cell_type": "code",
      "execution_count": 3,
      "metadata": {
        "colab": {
          "base_uri": "https://localhost:8080/"
        },
        "id": "1myhGHsdlu-c",
        "outputId": "8a9e72a4-ac6d-42ed-ac77-80c707af4b80"
      },
      "outputs": [
        {
          "name": "stdout",
          "output_type": "stream",
          "text": [
            "<class 'pandas.core.frame.DataFrame'>\n",
            "Int64Index: 40480 entries, 0 to 51303\n",
            "Data columns (total 17 columns):\n",
            " #   Column             Non-Null Count  Dtype  \n",
            "---  ------             --------------  -----  \n",
            " 0   id                 40480 non-null  int64  \n",
            " 1   type_of_contract   40480 non-null  object \n",
            " 2   type_of_contract2  40480 non-null  object \n",
            " 3   channel            40480 non-null  object \n",
            " 4   datetime           40480 non-null  object \n",
            " 5   Term               40480 non-null  int64  \n",
            " 6   payment_type       40480 non-null  object \n",
            " 7   product            40480 non-null  object \n",
            " 8   amount             40480 non-null  int64  \n",
            " 9   state              40480 non-null  object \n",
            " 10  overdue_count      40480 non-null  int64  \n",
            " 11  overdue            40480 non-null  object \n",
            " 12  credit rating      40480 non-null  float64\n",
            " 13  bank               40480 non-null  object \n",
            " 14  cancellation       40480 non-null  object \n",
            " 15  age                40480 non-null  float64\n",
            " 16  Mileage            40480 non-null  float64\n",
            "dtypes: float64(3), int64(4), object(10)\n",
            "memory usage: 5.6+ MB\n"
          ]
        }
      ],
      "source": [
        "import pandas as pd\n",
        "import seaborn as sns\n",
        "df_RCOCT = pd.read_csv('RentalCarOfContractType.csv')\n",
        "df_RCOCT.dropna(inplace=True)\n",
        "df_RCOCT.info()"
      ]
    },
    {
      "cell_type": "code",
      "execution_count": 4,
      "metadata": {
        "colab": {
          "base_uri": "https://localhost:8080/",
          "height": 632
        },
        "id": "w5BFP6k7mIee",
        "outputId": "b0f50c77-5c46-4a47-e1a1-dae951beda3a"
      },
      "outputs": [
        {
          "data": {
            "text/html": [
              "\n",
              "  <div id=\"df-412c54de-b209-4686-84f5-b454f641240a\" class=\"colab-df-container\">\n",
              "    <div>\n",
              "<style scoped>\n",
              "    .dataframe tbody tr th:only-of-type {\n",
              "        vertical-align: middle;\n",
              "    }\n",
              "\n",
              "    .dataframe tbody tr th {\n",
              "        vertical-align: top;\n",
              "    }\n",
              "\n",
              "    .dataframe thead th {\n",
              "        text-align: right;\n",
              "    }\n",
              "</style>\n",
              "<table border=\"1\" class=\"dataframe\">\n",
              "  <thead>\n",
              "    <tr style=\"text-align: right;\">\n",
              "      <th></th>\n",
              "      <th>id</th>\n",
              "      <th>type_of_contract</th>\n",
              "      <th>type_of_contract2</th>\n",
              "      <th>channel</th>\n",
              "      <th>datetime</th>\n",
              "      <th>Term</th>\n",
              "      <th>payment_type</th>\n",
              "      <th>product</th>\n",
              "      <th>amount</th>\n",
              "      <th>state</th>\n",
              "      <th>overdue_count</th>\n",
              "      <th>overdue</th>\n",
              "      <th>credit rating</th>\n",
              "      <th>bank</th>\n",
              "      <th>cancellation</th>\n",
              "      <th>age</th>\n",
              "      <th>Mileage</th>\n",
              "    </tr>\n",
              "  </thead>\n",
              "  <tbody>\n",
              "    <tr>\n",
              "      <th>0</th>\n",
              "      <td>66758234</td>\n",
              "      <td>렌탈</td>\n",
              "      <td>Normal</td>\n",
              "      <td>서비스 방문</td>\n",
              "      <td>2019-10-20</td>\n",
              "      <td>60</td>\n",
              "      <td>CMS</td>\n",
              "      <td>K1</td>\n",
              "      <td>96900</td>\n",
              "      <td>계약확정</td>\n",
              "      <td>0</td>\n",
              "      <td>없음</td>\n",
              "      <td>9.0</td>\n",
              "      <td>새마을금고</td>\n",
              "      <td>정상</td>\n",
              "      <td>43.0</td>\n",
              "      <td>1862.0</td>\n",
              "    </tr>\n",
              "    <tr>\n",
              "      <th>1</th>\n",
              "      <td>66755948</td>\n",
              "      <td>렌탈</td>\n",
              "      <td>Extension_Rental</td>\n",
              "      <td>서비스 방문</td>\n",
              "      <td>2019-10-20</td>\n",
              "      <td>60</td>\n",
              "      <td>카드이체</td>\n",
              "      <td>K1</td>\n",
              "      <td>102900</td>\n",
              "      <td>계약확정</td>\n",
              "      <td>0</td>\n",
              "      <td>없음</td>\n",
              "      <td>2.0</td>\n",
              "      <td>현대카드</td>\n",
              "      <td>정상</td>\n",
              "      <td>62.0</td>\n",
              "      <td>2532.0</td>\n",
              "    </tr>\n",
              "    <tr>\n",
              "      <th>2</th>\n",
              "      <td>66756657</td>\n",
              "      <td>렌탈</td>\n",
              "      <td>Normal</td>\n",
              "      <td>홈쇼핑/방송</td>\n",
              "      <td>2019-10-20</td>\n",
              "      <td>60</td>\n",
              "      <td>CMS</td>\n",
              "      <td>K1</td>\n",
              "      <td>96900</td>\n",
              "      <td>계약확정</td>\n",
              "      <td>0</td>\n",
              "      <td>없음</td>\n",
              "      <td>8.0</td>\n",
              "      <td>우리은행</td>\n",
              "      <td>정상</td>\n",
              "      <td>60.0</td>\n",
              "      <td>2363.0</td>\n",
              "    </tr>\n",
              "    <tr>\n",
              "      <th>3</th>\n",
              "      <td>66423450</td>\n",
              "      <td>멤버십</td>\n",
              "      <td>TAS</td>\n",
              "      <td>렌탈재계약</td>\n",
              "      <td>2019-10-20</td>\n",
              "      <td>12</td>\n",
              "      <td>CMS</td>\n",
              "      <td>K1</td>\n",
              "      <td>66900</td>\n",
              "      <td>계약확정</td>\n",
              "      <td>0</td>\n",
              "      <td>없음</td>\n",
              "      <td>5.0</td>\n",
              "      <td>농협은행</td>\n",
              "      <td>정상</td>\n",
              "      <td>60.0</td>\n",
              "      <td>2449.0</td>\n",
              "    </tr>\n",
              "    <tr>\n",
              "      <th>4</th>\n",
              "      <td>66423204</td>\n",
              "      <td>멤버십</td>\n",
              "      <td>TAS</td>\n",
              "      <td>렌탈재계약</td>\n",
              "      <td>2019-10-20</td>\n",
              "      <td>12</td>\n",
              "      <td>CMS</td>\n",
              "      <td>K1</td>\n",
              "      <td>66900</td>\n",
              "      <td>해약확정</td>\n",
              "      <td>12</td>\n",
              "      <td>있음</td>\n",
              "      <td>8.0</td>\n",
              "      <td>농협은행</td>\n",
              "      <td>해약</td>\n",
              "      <td>51.0</td>\n",
              "      <td>1942.0</td>\n",
              "    </tr>\n",
              "    <tr>\n",
              "      <th>...</th>\n",
              "      <td>...</td>\n",
              "      <td>...</td>\n",
              "      <td>...</td>\n",
              "      <td>...</td>\n",
              "      <td>...</td>\n",
              "      <td>...</td>\n",
              "      <td>...</td>\n",
              "      <td>...</td>\n",
              "      <td>...</td>\n",
              "      <td>...</td>\n",
              "      <td>...</td>\n",
              "      <td>...</td>\n",
              "      <td>...</td>\n",
              "      <td>...</td>\n",
              "      <td>...</td>\n",
              "      <td>...</td>\n",
              "      <td>...</td>\n",
              "    </tr>\n",
              "    <tr>\n",
              "      <th>51295</th>\n",
              "      <td>66799197</td>\n",
              "      <td>렌탈</td>\n",
              "      <td>Promotion</td>\n",
              "      <td>영업방판</td>\n",
              "      <td>2020-02-03</td>\n",
              "      <td>39</td>\n",
              "      <td>카드이체</td>\n",
              "      <td>K5</td>\n",
              "      <td>120900</td>\n",
              "      <td>해약확정</td>\n",
              "      <td>0</td>\n",
              "      <td>없음</td>\n",
              "      <td>1.0</td>\n",
              "      <td>롯데카드</td>\n",
              "      <td>해약</td>\n",
              "      <td>48.0</td>\n",
              "      <td>1869.0</td>\n",
              "    </tr>\n",
              "    <tr>\n",
              "      <th>51296</th>\n",
              "      <td>66792778</td>\n",
              "      <td>렌탈</td>\n",
              "      <td>Normal</td>\n",
              "      <td>홈쇼핑/방송</td>\n",
              "      <td>2020-02-03</td>\n",
              "      <td>60</td>\n",
              "      <td>카드이체</td>\n",
              "      <td>K1</td>\n",
              "      <td>96900</td>\n",
              "      <td>계약확정</td>\n",
              "      <td>0</td>\n",
              "      <td>없음</td>\n",
              "      <td>2.0</td>\n",
              "      <td>롯데카드</td>\n",
              "      <td>정상</td>\n",
              "      <td>44.0</td>\n",
              "      <td>1947.0</td>\n",
              "    </tr>\n",
              "    <tr>\n",
              "      <th>51297</th>\n",
              "      <td>66799607</td>\n",
              "      <td>렌탈</td>\n",
              "      <td>Normal</td>\n",
              "      <td>홈쇼핑/방송</td>\n",
              "      <td>2020-02-03</td>\n",
              "      <td>60</td>\n",
              "      <td>CMS</td>\n",
              "      <td>K1</td>\n",
              "      <td>96900</td>\n",
              "      <td>해약확정</td>\n",
              "      <td>0</td>\n",
              "      <td>없음</td>\n",
              "      <td>8.0</td>\n",
              "      <td>신한은행</td>\n",
              "      <td>해약</td>\n",
              "      <td>70.0</td>\n",
              "      <td>2623.0</td>\n",
              "    </tr>\n",
              "    <tr>\n",
              "      <th>51300</th>\n",
              "      <td>66799558</td>\n",
              "      <td>렌탈</td>\n",
              "      <td>Normal</td>\n",
              "      <td>영업방판</td>\n",
              "      <td>2020-02-03</td>\n",
              "      <td>60</td>\n",
              "      <td>카드이체</td>\n",
              "      <td>K1</td>\n",
              "      <td>96900</td>\n",
              "      <td>해약확정</td>\n",
              "      <td>0</td>\n",
              "      <td>없음</td>\n",
              "      <td>8.0</td>\n",
              "      <td>롯데카드</td>\n",
              "      <td>해약</td>\n",
              "      <td>39.0</td>\n",
              "      <td>1753.0</td>\n",
              "    </tr>\n",
              "    <tr>\n",
              "      <th>51303</th>\n",
              "      <td>66799607</td>\n",
              "      <td>렌탈</td>\n",
              "      <td>Normal</td>\n",
              "      <td>하이마트</td>\n",
              "      <td>2020-02-03</td>\n",
              "      <td>60</td>\n",
              "      <td>CMS</td>\n",
              "      <td>K1</td>\n",
              "      <td>96900</td>\n",
              "      <td>해약확정</td>\n",
              "      <td>0</td>\n",
              "      <td>없음</td>\n",
              "      <td>8.0</td>\n",
              "      <td>농협은행</td>\n",
              "      <td>해약</td>\n",
              "      <td>53.0</td>\n",
              "      <td>2130.0</td>\n",
              "    </tr>\n",
              "  </tbody>\n",
              "</table>\n",
              "<p>40480 rows × 17 columns</p>\n",
              "</div>\n",
              "    <div class=\"colab-df-buttons\">\n",
              "\n",
              "  <div class=\"colab-df-container\">\n",
              "    <button class=\"colab-df-convert\" onclick=\"convertToInteractive('df-412c54de-b209-4686-84f5-b454f641240a')\"\n",
              "            title=\"Convert this dataframe to an interactive table.\"\n",
              "            style=\"display:none;\">\n",
              "\n",
              "  <svg xmlns=\"http://www.w3.org/2000/svg\" height=\"24px\" viewBox=\"0 -960 960 960\">\n",
              "    <path d=\"M120-120v-720h720v720H120Zm60-500h600v-160H180v160Zm220 220h160v-160H400v160Zm0 220h160v-160H400v160ZM180-400h160v-160H180v160Zm440 0h160v-160H620v160ZM180-180h160v-160H180v160Zm440 0h160v-160H620v160Z\"/>\n",
              "  </svg>\n",
              "    </button>\n",
              "\n",
              "  <style>\n",
              "    .colab-df-container {\n",
              "      display:flex;\n",
              "      gap: 12px;\n",
              "    }\n",
              "\n",
              "    .colab-df-convert {\n",
              "      background-color: #E8F0FE;\n",
              "      border: none;\n",
              "      border-radius: 50%;\n",
              "      cursor: pointer;\n",
              "      display: none;\n",
              "      fill: #1967D2;\n",
              "      height: 32px;\n",
              "      padding: 0 0 0 0;\n",
              "      width: 32px;\n",
              "    }\n",
              "\n",
              "    .colab-df-convert:hover {\n",
              "      background-color: #E2EBFA;\n",
              "      box-shadow: 0px 1px 2px rgba(60, 64, 67, 0.3), 0px 1px 3px 1px rgba(60, 64, 67, 0.15);\n",
              "      fill: #174EA6;\n",
              "    }\n",
              "\n",
              "    .colab-df-buttons div {\n",
              "      margin-bottom: 4px;\n",
              "    }\n",
              "\n",
              "    [theme=dark] .colab-df-convert {\n",
              "      background-color: #3B4455;\n",
              "      fill: #D2E3FC;\n",
              "    }\n",
              "\n",
              "    [theme=dark] .colab-df-convert:hover {\n",
              "      background-color: #434B5C;\n",
              "      box-shadow: 0px 1px 3px 1px rgba(0, 0, 0, 0.15);\n",
              "      filter: drop-shadow(0px 1px 2px rgba(0, 0, 0, 0.3));\n",
              "      fill: #FFFFFF;\n",
              "    }\n",
              "  </style>\n",
              "\n",
              "    <script>\n",
              "      const buttonEl =\n",
              "        document.querySelector('#df-412c54de-b209-4686-84f5-b454f641240a button.colab-df-convert');\n",
              "      buttonEl.style.display =\n",
              "        google.colab.kernel.accessAllowed ? 'block' : 'none';\n",
              "\n",
              "      async function convertToInteractive(key) {\n",
              "        const element = document.querySelector('#df-412c54de-b209-4686-84f5-b454f641240a');\n",
              "        const dataTable =\n",
              "          await google.colab.kernel.invokeFunction('convertToInteractive',\n",
              "                                                    [key], {});\n",
              "        if (!dataTable) return;\n",
              "\n",
              "        const docLinkHtml = 'Like what you see? Visit the ' +\n",
              "          '<a target=\"_blank\" href=https://colab.research.google.com/notebooks/data_table.ipynb>data table notebook</a>'\n",
              "          + ' to learn more about interactive tables.';\n",
              "        element.innerHTML = '';\n",
              "        dataTable['output_type'] = 'display_data';\n",
              "        await google.colab.output.renderOutput(dataTable, element);\n",
              "        const docLink = document.createElement('div');\n",
              "        docLink.innerHTML = docLinkHtml;\n",
              "        element.appendChild(docLink);\n",
              "      }\n",
              "    </script>\n",
              "  </div>\n",
              "\n",
              "\n",
              "<div id=\"df-199a6923-537a-4077-b96d-e535c48164e2\">\n",
              "  <button class=\"colab-df-quickchart\" onclick=\"quickchart('df-199a6923-537a-4077-b96d-e535c48164e2')\"\n",
              "            title=\"Suggest charts\"\n",
              "            style=\"display:none;\">\n",
              "\n",
              "<svg xmlns=\"http://www.w3.org/2000/svg\" height=\"24px\"viewBox=\"0 0 24 24\"\n",
              "     width=\"24px\">\n",
              "    <g>\n",
              "        <path d=\"M19 3H5c-1.1 0-2 .9-2 2v14c0 1.1.9 2 2 2h14c1.1 0 2-.9 2-2V5c0-1.1-.9-2-2-2zM9 17H7v-7h2v7zm4 0h-2V7h2v10zm4 0h-2v-4h2v4z\"/>\n",
              "    </g>\n",
              "</svg>\n",
              "  </button>\n",
              "\n",
              "<style>\n",
              "  .colab-df-quickchart {\n",
              "      --bg-color: #E8F0FE;\n",
              "      --fill-color: #1967D2;\n",
              "      --hover-bg-color: #E2EBFA;\n",
              "      --hover-fill-color: #174EA6;\n",
              "      --disabled-fill-color: #AAA;\n",
              "      --disabled-bg-color: #DDD;\n",
              "  }\n",
              "\n",
              "  [theme=dark] .colab-df-quickchart {\n",
              "      --bg-color: #3B4455;\n",
              "      --fill-color: #D2E3FC;\n",
              "      --hover-bg-color: #434B5C;\n",
              "      --hover-fill-color: #FFFFFF;\n",
              "      --disabled-bg-color: #3B4455;\n",
              "      --disabled-fill-color: #666;\n",
              "  }\n",
              "\n",
              "  .colab-df-quickchart {\n",
              "    background-color: var(--bg-color);\n",
              "    border: none;\n",
              "    border-radius: 50%;\n",
              "    cursor: pointer;\n",
              "    display: none;\n",
              "    fill: var(--fill-color);\n",
              "    height: 32px;\n",
              "    padding: 0;\n",
              "    width: 32px;\n",
              "  }\n",
              "\n",
              "  .colab-df-quickchart:hover {\n",
              "    background-color: var(--hover-bg-color);\n",
              "    box-shadow: 0 1px 2px rgba(60, 64, 67, 0.3), 0 1px 3px 1px rgba(60, 64, 67, 0.15);\n",
              "    fill: var(--button-hover-fill-color);\n",
              "  }\n",
              "\n",
              "  .colab-df-quickchart-complete:disabled,\n",
              "  .colab-df-quickchart-complete:disabled:hover {\n",
              "    background-color: var(--disabled-bg-color);\n",
              "    fill: var(--disabled-fill-color);\n",
              "    box-shadow: none;\n",
              "  }\n",
              "\n",
              "  .colab-df-spinner {\n",
              "    border: 2px solid var(--fill-color);\n",
              "    border-color: transparent;\n",
              "    border-bottom-color: var(--fill-color);\n",
              "    animation:\n",
              "      spin 1s steps(1) infinite;\n",
              "  }\n",
              "\n",
              "  @keyframes spin {\n",
              "    0% {\n",
              "      border-color: transparent;\n",
              "      border-bottom-color: var(--fill-color);\n",
              "      border-left-color: var(--fill-color);\n",
              "    }\n",
              "    20% {\n",
              "      border-color: transparent;\n",
              "      border-left-color: var(--fill-color);\n",
              "      border-top-color: var(--fill-color);\n",
              "    }\n",
              "    30% {\n",
              "      border-color: transparent;\n",
              "      border-left-color: var(--fill-color);\n",
              "      border-top-color: var(--fill-color);\n",
              "      border-right-color: var(--fill-color);\n",
              "    }\n",
              "    40% {\n",
              "      border-color: transparent;\n",
              "      border-right-color: var(--fill-color);\n",
              "      border-top-color: var(--fill-color);\n",
              "    }\n",
              "    60% {\n",
              "      border-color: transparent;\n",
              "      border-right-color: var(--fill-color);\n",
              "    }\n",
              "    80% {\n",
              "      border-color: transparent;\n",
              "      border-right-color: var(--fill-color);\n",
              "      border-bottom-color: var(--fill-color);\n",
              "    }\n",
              "    90% {\n",
              "      border-color: transparent;\n",
              "      border-bottom-color: var(--fill-color);\n",
              "    }\n",
              "  }\n",
              "</style>\n",
              "\n",
              "  <script>\n",
              "    async function quickchart(key) {\n",
              "      const quickchartButtonEl =\n",
              "        document.querySelector('#' + key + ' button');\n",
              "      quickchartButtonEl.disabled = true;  // To prevent multiple clicks.\n",
              "      quickchartButtonEl.classList.add('colab-df-spinner');\n",
              "      try {\n",
              "        const charts = await google.colab.kernel.invokeFunction(\n",
              "            'suggestCharts', [key], {});\n",
              "      } catch (error) {\n",
              "        console.error('Error during call to suggestCharts:', error);\n",
              "      }\n",
              "      quickchartButtonEl.classList.remove('colab-df-spinner');\n",
              "      quickchartButtonEl.classList.add('colab-df-quickchart-complete');\n",
              "    }\n",
              "    (() => {\n",
              "      let quickchartButtonEl =\n",
              "        document.querySelector('#df-199a6923-537a-4077-b96d-e535c48164e2 button');\n",
              "      quickchartButtonEl.style.display =\n",
              "        google.colab.kernel.accessAllowed ? 'block' : 'none';\n",
              "    })();\n",
              "  </script>\n",
              "</div>\n",
              "\n",
              "  <div id=\"id_ed004d0d-4473-4235-a74f-f74879b0ea82\">\n",
              "    <style>\n",
              "      .colab-df-generate {\n",
              "        background-color: #E8F0FE;\n",
              "        border: none;\n",
              "        border-radius: 50%;\n",
              "        cursor: pointer;\n",
              "        display: none;\n",
              "        fill: #1967D2;\n",
              "        height: 32px;\n",
              "        padding: 0 0 0 0;\n",
              "        width: 32px;\n",
              "      }\n",
              "\n",
              "      .colab-df-generate:hover {\n",
              "        background-color: #E2EBFA;\n",
              "        box-shadow: 0px 1px 2px rgba(60, 64, 67, 0.3), 0px 1px 3px 1px rgba(60, 64, 67, 0.15);\n",
              "        fill: #174EA6;\n",
              "      }\n",
              "\n",
              "      [theme=dark] .colab-df-generate {\n",
              "        background-color: #3B4455;\n",
              "        fill: #D2E3FC;\n",
              "      }\n",
              "\n",
              "      [theme=dark] .colab-df-generate:hover {\n",
              "        background-color: #434B5C;\n",
              "        box-shadow: 0px 1px 3px 1px rgba(0, 0, 0, 0.15);\n",
              "        filter: drop-shadow(0px 1px 2px rgba(0, 0, 0, 0.3));\n",
              "        fill: #FFFFFF;\n",
              "      }\n",
              "    </style>\n",
              "    <button class=\"colab-df-generate\" onclick=\"generateWithVariable('df_LCOCT')\"\n",
              "            title=\"Generate code using this dataframe.\"\n",
              "            style=\"display:none;\">\n",
              "\n",
              "  <svg xmlns=\"http://www.w3.org/2000/svg\" height=\"24px\"viewBox=\"0 0 24 24\"\n",
              "       width=\"24px\">\n",
              "    <path d=\"M7,19H8.4L18.45,9,17,7.55,7,17.6ZM5,21V16.75L18.45,3.32a2,2,0,0,1,2.83,0l1.4,1.43a1.91,1.91,0,0,1,.58,1.4,1.91,1.91,0,0,1-.58,1.4L9.25,21ZM18.45,9,17,7.55Zm-12,3A5.31,5.31,0,0,0,4.9,8.1,5.31,5.31,0,0,0,1,6.5,5.31,5.31,0,0,0,4.9,4.9,5.31,5.31,0,0,0,6.5,1,5.31,5.31,0,0,0,8.1,4.9,5.31,5.31,0,0,0,12,6.5,5.46,5.46,0,0,0,6.5,12Z\"/>\n",
              "  </svg>\n",
              "    </button>\n",
              "    <script>\n",
              "      (() => {\n",
              "      const buttonEl =\n",
              "        document.querySelector('#id_ed004d0d-4473-4235-a74f-f74879b0ea82 button.colab-df-generate');\n",
              "      buttonEl.style.display =\n",
              "        google.colab.kernel.accessAllowed ? 'block' : 'none';\n",
              "\n",
              "      buttonEl.onclick = () => {\n",
              "        google.colab.notebook.generateWithVariable('df_LCOCT');\n",
              "      }\n",
              "      })();\n",
              "    </script>\n",
              "  </div>\n",
              "\n",
              "    </div>\n",
              "  </div>\n"
            ],
            "text/plain": [
              "             id type_of_contract type_of_contract2 channel    datetime  Term  \\\n",
              "0      66758234               렌탈            Normal  서비스 방문  2019-10-20    60   \n",
              "1      66755948               렌탈  Extension_Rental  서비스 방문  2019-10-20    60   \n",
              "2      66756657               렌탈            Normal  홈쇼핑/방송  2019-10-20    60   \n",
              "3      66423450              멤버십               TAS   렌탈재계약  2019-10-20    12   \n",
              "4      66423204              멤버십               TAS   렌탈재계약  2019-10-20    12   \n",
              "...         ...              ...               ...     ...         ...   ...   \n",
              "51295  66799197               렌탈         Promotion    영업방판  2020-02-03    39   \n",
              "51296  66792778               렌탈            Normal  홈쇼핑/방송  2020-02-03    60   \n",
              "51297  66799607               렌탈            Normal  홈쇼핑/방송  2020-02-03    60   \n",
              "51300  66799558               렌탈            Normal    영업방판  2020-02-03    60   \n",
              "51303  66799607               렌탈            Normal    하이마트  2020-02-03    60   \n",
              "\n",
              "      payment_type product  amount state  overdue_count overdue  \\\n",
              "0              CMS      K1   96900  계약확정              0      없음   \n",
              "1             카드이체      K1  102900  계약확정              0      없음   \n",
              "2              CMS      K1   96900  계약확정              0      없음   \n",
              "3              CMS      K1   66900  계약확정              0      없음   \n",
              "4              CMS      K1   66900  해약확정             12      있음   \n",
              "...            ...     ...     ...   ...            ...     ...   \n",
              "51295         카드이체      K5  120900  해약확정              0      없음   \n",
              "51296         카드이체      K1   96900  계약확정              0      없음   \n",
              "51297          CMS      K1   96900  해약확정              0      없음   \n",
              "51300         카드이체      K1   96900  해약확정              0      없음   \n",
              "51303          CMS      K1   96900  해약확정              0      없음   \n",
              "\n",
              "       credit rating   bank cancellation   age  Mileage  \n",
              "0                9.0  새마을금고           정상  43.0   1862.0  \n",
              "1                2.0   현대카드           정상  62.0   2532.0  \n",
              "2                8.0   우리은행           정상  60.0   2363.0  \n",
              "3                5.0   농협은행           정상  60.0   2449.0  \n",
              "4                8.0   농협은행           해약  51.0   1942.0  \n",
              "...              ...    ...          ...   ...      ...  \n",
              "51295            1.0   롯데카드           해약  48.0   1869.0  \n",
              "51296            2.0   롯데카드           정상  44.0   1947.0  \n",
              "51297            8.0   신한은행           해약  70.0   2623.0  \n",
              "51300            8.0   롯데카드           해약  39.0   1753.0  \n",
              "51303            8.0   농협은행           해약  53.0   2130.0  \n",
              "\n",
              "[40480 rows x 17 columns]"
            ]
          },
          "execution_count": 4,
          "metadata": {},
          "output_type": "execute_result"
        }
      ],
      "source": [
        "df_RCOCT"
      ]
    },
    {
      "cell_type": "markdown",
      "metadata": {
        "id": "Ql-wmJTomILH"
      },
      "source": []
    },
    {
      "cell_type": "markdown",
      "metadata": {
        "id": "dVYBStlhmEi2"
      },
      "source": [
        "### 기술 데이터 분석(DDA)"
      ]
    },
    {
      "cell_type": "code",
      "execution_count": 5,
      "metadata": {
        "colab": {
          "base_uri": "https://localhost:8080/"
        },
        "id": "dxIZ-O3hogM-",
        "outputId": "7e5182aa-8859-4578-cd97-f887cca33164"
      },
      "outputs": [
        {
          "data": {
            "text/plain": [
              "없음    39019\n",
              "있음     1461\n",
              "Name: overdue, dtype: int64"
            ]
          },
          "execution_count": 5,
          "metadata": {},
          "output_type": "execute_result"
        }
      ],
      "source": [
        "# 고객의 연체 여부 확인\n",
        "df_RCOCT['overdue'].value_counts()\n",
        "# 전체 고객 중 3%가 연체됨"
      ]
    },
    {
      "cell_type": "code",
      "execution_count": 6,
      "metadata": {
        "colab": {
          "base_uri": "https://localhost:8080/"
        },
        "id": "sjGMtWqbmDOf",
        "outputId": "55789ec1-4cc2-4c3c-e2ba-196c82b795a8"
      },
      "outputs": [
        {
          "data": {
            "text/plain": [
              " 0     39007\n",
              " 1       589\n",
              " 2       269\n",
              " 3       101\n",
              " 12       87\n",
              " 4        78\n",
              " 10       54\n",
              " 5        52\n",
              " 7        44\n",
              " 8        41\n",
              " 11       37\n",
              " 9        34\n",
              " 14       31\n",
              " 13       30\n",
              "-1        12\n",
              " 15       10\n",
              " 6         4\n",
              "Name: overdue_count, dtype: int64"
            ]
          },
          "execution_count": 6,
          "metadata": {},
          "output_type": "execute_result"
        }
      ],
      "source": [
        "# 고객의 연체 기록 확인\n",
        "df_RCOCT['overdue_count'].value_counts()\n",
        "# 1회 연체한 고객의 수가 가장 많음"
      ]
    },
    {
      "cell_type": "code",
      "execution_count": 49,
      "metadata": {
        "colab": {
          "base_uri": "https://localhost:8080/"
        },
        "id": "MZJMzfRXnCvg",
        "outputId": "38c67c00-5ce6-4e77-be79-3b2d7a87405d"
      },
      "outputs": [
        {
          "data": {
            "text/plain": [
              "9.0     22.131148\n",
              "8.0     20.600273\n",
              "10.0    20.000000\n",
              "7.0     13.634608\n",
              "6.0      6.870861\n",
              "0.0      5.000000\n",
              "5.0      3.620019\n",
              "4.0      2.219194\n",
              "3.0      1.256018\n",
              "2.0      0.601716\n",
              "1.0      0.390434\n",
              "Name: credit rating, dtype: float64"
            ]
          },
          "execution_count": 49,
          "metadata": {},
          "output_type": "execute_result"
        }
      ],
      "source": [
        "# 신용 등급\n",
        "condition = \"overdue == '있음'\"\n",
        "percent_credit_rating=(df_RCOCT.query(condition)['credit rating'].value_counts()/df_RCOCT['credit rating'].value_counts())*100\n",
        "percent_credit_rating= percent_credit_rating.sort_values(ascending=False)\n",
        "percent_credit_rating\n",
        "# 신용 등급이 7,8인 고객들에게서 연체 고객의 비율이 높음\n",
        "# 인사이트 : 신용 등급이 낮은 고객의 경우 계약 시 주의 필요"
      ]
    },
    {
      "cell_type": "code",
      "execution_count": 8,
      "metadata": {
        "colab": {
          "base_uri": "https://localhost:8080/"
        },
        "id": "cEswzyJ6oTKP",
        "outputId": "600fd323-2ecf-4bc4-a218-1000e8845d6b"
      },
      "outputs": [
        {
          "data": {
            "text/plain": [
              "렌탈     3.615555\n",
              "멤버십    3.488943\n",
              "Name: type_of_contract, dtype: float64"
            ]
          },
          "execution_count": 8,
          "metadata": {},
          "output_type": "execute_result"
        }
      ],
      "source": [
        "# 계약 유형\n",
        "condition = \"overdue == '있음'\"\n",
        "(df_RCOCT.query(condition)['type_of_contract'].value_counts()/df_RCOCT['type_of_contract'].value_counts())*100\n",
        "# 계약 유형에 따른 연체 고객/전체 고객 비율은 큰 차이 없음\n"
      ]
    },
    {
      "cell_type": "code",
      "execution_count": 62,
      "metadata": {
        "colab": {
          "base_uri": "https://localhost:8080/"
        },
        "id": "yKBlIBXEsIFg",
        "outputId": "f662a7e0-9278-4228-c5fb-2cc5af6623d5"
      },
      "outputs": [
        {
          "data": {
            "text/plain": [
              "39    10.876133\n",
              "36     4.161074\n",
              "12     3.497537\n",
              "60     3.474341\n",
              "Name: Term, dtype: float64"
            ]
          },
          "execution_count": 62,
          "metadata": {},
          "output_type": "execute_result"
        }
      ],
      "source": [
        "# 계약 기간\n",
        "condition = \"overdue == '있음'\"\n",
        "percent_term = (df_RCOCT.query(condition)['Term'].value_counts()/df_RCOCT['Term'].value_counts())*100\n",
        "percent_term = percent_term.sort_values(ascending=False)\n",
        "percent_term\n",
        "# 39개월 계약한 고객들에게서 연체 고객의 비율이 높음\n",
        "# 인사이트 : 39개월과 관련된 프로모션이나 정책이 있는지 확인 필요"
      ]
    },
    {
      "cell_type": "code",
      "execution_count": 63,
      "metadata": {
        "colab": {
          "base_uri": "https://localhost:8080/"
        },
        "id": "xzOOBOYPtAOC",
        "outputId": "64297284-c1e9-4592-efca-a8c005e9d35d"
      },
      "outputs": [
        {
          "data": {
            "text/plain": [
              "CMS     4.864124\n",
              "카드이체    1.288188\n",
              "Name: payment_type, dtype: float64"
            ]
          },
          "execution_count": 63,
          "metadata": {},
          "output_type": "execute_result"
        }
      ],
      "source": [
        "# 지불 방식\n",
        "condition = \"overdue == '있음'\"\n",
        "percent_payment = (df_RCOCT.query(condition)['payment_type'].value_counts()/df_RCOCT['payment_type'].value_counts())*100\n",
        "percent_payment = percent_payment.sort_values(ascending=False)\n",
        "percent_payment\n",
        "# 자동이체 방식을 이용하는 고객에게서 연체된 고객의 비율이 높음\n",
        "# 인사이트 : 자동이체하는 고객들에게 자동이체일 전에 미리 공지 고려"
      ]
    },
    {
      "cell_type": "code",
      "execution_count": 31,
      "metadata": {
        "colab": {
          "base_uri": "https://localhost:8080/"
        },
        "id": "HMdIYsMctSPa",
        "outputId": "15f0d03d-b59c-44a9-9067-14e2ed926fa1"
      },
      "outputs": [
        {
          "name": "stdout",
          "output_type": "stream",
          "text": [
            "Int64Index([    0,     1,     2,     3,     4,     5,     6,     8,     9,\n",
            "               10,\n",
            "            ...\n",
            "            51283, 51286, 51290, 51292, 51294, 51295, 51296, 51297, 51300,\n",
            "            51303],\n",
            "           dtype='int64', length=40480)\n"
          ]
        }
      ],
      "source": [
        "# 연령대\n",
        "condition = \"overdue == '있음'\"\n",
        "df_RCOCT['age_group'] = df_RCOCT['age'].astype(str)\n",
        "df_RCOCT['age_group'] = df_RCOCT['age_group'].str.slice(0,1)+'0'\n",
        "df_RCOCT\n",
        "(df_RCOCT.query(condition)['age_group'].value_counts()/df_RCOCT['age_group'].value_counts())*100\n",
        "# 연령대에 따른 연체고객/전체고객 비율은 큰 차이가 없음\n"
      ]
    },
    {
      "cell_type": "markdown",
      "metadata": {
        "id": "niMZTeVOxQxJ"
      },
      "source": [
        "### EDA\n",
        "- 추가 확인 후 인사이트 재 조정"
      ]
    },
    {
      "cell_type": "code",
      "execution_count": 55,
      "metadata": {
        "colab": {
          "base_uri": "https://localhost:8080/",
          "height": 467
        },
        "id": "z1EfKcW-xRJ4",
        "outputId": "32cf3561-add9-48b6-af1f-b112567151cd"
      },
      "outputs": [
        {
          "data": {
            "text/plain": [
              "Text(0.5, 0, '신용 등급 별 연체 고객 차지 비율')"
            ]
          },
          "execution_count": 55,
          "metadata": {},
          "output_type": "execute_result"
        },
        {
          "data": {
            "image/png": "[encoded data removed]",
            "text/plain": [
              "<Figure size 640x480 with 1 Axes>"
            ]
          },
          "metadata": {},
          "output_type": "display_data"
        }
      ],
      "source": [
        "# 신용 등급 별 연체 고객 차지 비율 확인\n",
        "df_RCOCT.query(condition)\n",
        "percent_credit_rating.index=percent_credit_rating.index.astype(str)\n",
        "sns.barplot(x=percent_credit_rating.index, y=percent_credit_rating.values)\n",
        "plt.xlabel(\"신용 등급 별 연체 고객 차지 비율\")"
      ]
    },
    {
      "cell_type": "code",
      "execution_count": 60,
      "metadata": {
        "colab": {
          "base_uri": "https://localhost:8080/",
          "height": 467
        },
        "id": "UeSpnJizzesC",
        "outputId": "bac20c1b-62fe-442a-c993-1d951bbca07a"
      },
      "outputs": [
        {
          "data": {
            "text/plain": [
              "Text(0.5, 0, '계약기간 별 연체 고객 차지 비율')"
            ]
          },
          "execution_count": 60,
          "metadata": {},
          "output_type": "execute_result"
        },
        {
          "data": {
            "image/png": "[encoded data removed]",
            "text/plain": [
              "<Figure size 640x480 with 1 Axes>"
            ]
          },
          "metadata": {},
          "output_type": "display_data"
        }
      ],
      "source": [
        "# 계약 기간 별 연체 고객 차지 비율 확인\n",
        "df_RCOCT.query(condition)\n",
        "percent_term.index=percent_term.index.astype(str)\n",
        "sns.barplot(x=percent_term.index, y=percent_term.values)\n",
        "plt.xlabel(\"계약기간 별 연체 고객 차지 비율\")"
      ]
    },
    {
      "cell_type": "code",
      "execution_count": 65,
      "metadata": {
        "colab": {
          "base_uri": "https://localhost:8080/",
          "height": 467
        },
        "id": "p5chaEn6XX1W",
        "outputId": "d93dc265-6daa-411c-e490-8863a770fd7d"
      },
      "outputs": [
        {
          "data": {
            "text/plain": [
              "Text(0.5, 0, '지불 방식 별 연체 고객 차지 비율')"
            ]
          },
          "execution_count": 65,
          "metadata": {},
          "output_type": "execute_result"
        },
        {
          "data": {
            "image/png": "[encoded data removed]",
            "text/plain": [
              "<Figure size 640x480 with 1 Axes>"
            ]
          },
          "metadata": {},
          "output_type": "display_data"
        }
      ],
      "source": [
        "# 지불 방식 별 연체 고객 차지 비율 확인\n",
        "df_RCOCT.query(condition)\n",
        "percent_payment.index=percent_payment.index.astype(str)\n",
        "sns.barplot(x=percent_payment.index, y=percent_payment.values)\n",
        "plt.xlabel(\"지불 방식 별 연체 고객 차지 비율\")"
      ]
    },
    {
      "cell_type": "markdown",
      "metadata": {
        "id": "oGKw0PUiX0Qg"
      },
      "source": [
        "## 보고용 insight 작성"
      ]
    },
    {
      "cell_type": "markdown",
      "metadata": {
        "id": "7kbpcr3oX3av"
      },
      "source": [
        "- 지불 방식 별 연체 고객 차지 비율 인사이트\n",
        "  + 분석 결과 :  자동이체 방식을 이용하는 고객에게서 연체된 고객의 비율이 높음\n",
        "  + 전략 제안 : 자동이체하는 고객들에게 자동이체일 전에 미리 공지 고려\n",
        "-  계약 기간 별 연체 고객 차지 비율 인사이트\n",
        "  + 분석 결과 :  39개월 계약한 고객들에게서 연체 고객의 비율이 높음\n",
        "  + 전략 제안 : 39개월과 관련된 프로모션이나 정책이 있는지 확인 필요\n",
        "- 신용 등급 별 연체 고객 차지 비율 인사이트\n",
        "  + 분석 결과 :  신용 등급이 7,8인 고객들에게서 연체 고객의 비율이 높음\n",
        "  + 전략 제안 : 신용 등급이 낮은 고객의 경우 계약 시 주의 필요"
      ]
    },
    {
      "cell_type": "code",
      "execution_count": null,
      "metadata": {
        "id": "kYzA8Rd9Xr3O"
      },
      "outputs": [],
      "source": []
    }
  ],
  "metadata": {
    "colab": {
      "authorship_tag": "ABX9TyPz0ChxOPQgM9RjoFdO7i3f",
      "include_colab_link": true,
      "provenance": []
    },
    "kernelspec": {
      "display_name": "Python 3",
      "name": "python3"
    },
    "language_info": {
      "name": "python"
    }
  },
  "nbformat": 4,
  "nbformat_minor": 0
}
